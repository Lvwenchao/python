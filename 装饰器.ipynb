{
 "cells": [
  {
   "cell_type": "markdown",
   "metadata": {
    "collapsed": true,
    "pycharm": {
     "name": "#%% md\n"
    }
   },
   "source": [
    "1. 装饰器的使用及定义\n",
    "是用以修改其他函数的功能的函数。是一个返回函数的高阶函数，**函数装饰器在导入模块时立即执行**，而被装饰的函数只在明确调用时运行"
   ]
  },
  {
   "cell_type": "code",
   "execution_count": 2,
   "outputs": [
    {
     "name": "stdout",
     "output_type": "stream",
     "text": [
      "I'm Li hua\n",
      "hi\n"
     ]
    }
   ],
   "source": [
    "# 装饰函数\n",
    "def say_me(func):\n",
    "    \"\"\"\n",
    "    装饰函数，在func的前面添加功能，然后返回函数\n",
    "    :param func:\n",
    "    :return:\n",
    "    \"\"\"\n",
    "    print(\"I'm Li hua\")\n",
    "    return func\n",
    "\n",
    "\n",
    "# 被装饰函数\n",
    "@say_me\n",
    "def say_hi():\n",
    "    print(\"hi\")\n",
    "\n",
    "\n",
    "say_hi()"
   ],
   "metadata": {
    "collapsed": false,
    "pycharm": {
     "name": "#%%\n"
    }
   }
  },
  {
   "cell_type": "markdown",
   "source": [
    "2. 装饰带参数函数\n",
    "需要在装饰器函数中的闭包中添加参数，**闭包的返回值为函数的结果**，此时装饰器的返回值为闭包。\n",
    "使用闭包会导致原函数的 __name__ 发生变化，在闭包函数前使用 **@functools.wraps(func)** 可以解决。"
   ],
   "metadata": {
    "collapsed": false,
    "pycharm": {
     "name": "#%% md\n"
    }
   }
  },
  {
   "cell_type": "code",
   "execution_count": 9,
   "outputs": [
    {
     "name": "stdout",
     "output_type": "stream",
     "text": [
      "I'm Li hua\n",
      "hi, Li hua\n",
      "say_hi\n"
     ]
    }
   ],
   "source": [
    "from functools import wraps\n",
    "\n",
    "\n",
    "# 装饰函数\n",
    "def say_me(func):\n",
    "    \"\"\"\n",
    "    装饰函数，在func的前面添加功能，然后返回函数\n",
    "    :param func:\n",
    "    :return:\n",
    "    \"\"\"\n",
    "    @wraps(func)\n",
    "    def inner(name):\n",
    "        print(\"I'm Li hua\")\n",
    "        return func(name)\n",
    "\n",
    "    return inner\n",
    "\n",
    "\n",
    "# 被装饰函数\n",
    "@say_me\n",
    "def say_hi(name):\n",
    "    print(\"hi,\", name)\n",
    "\n",
    "\n",
    "say_hi(\"Li hua\")\n",
    "print(say_hi.__name__)"
   ],
   "metadata": {
    "collapsed": false,
    "pycharm": {
     "name": "#%%\n"
    }
   }
  }
 ],
 "metadata": {
  "kernelspec": {
   "display_name": "Python 3",
   "language": "python",
   "name": "python3"
  },
  "language_info": {
   "codemirror_mode": {
    "name": "ipython",
    "version": 2
   },
   "file_extension": ".py",
   "mimetype": "text/x-python",
   "name": "python",
   "nbconvert_exporter": "python",
   "pygments_lexer": "ipython2",
   "version": "2.7.6"
  }
 },
 "nbformat": 4,
 "nbformat_minor": 0
}