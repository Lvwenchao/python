{
 "cells": [
  {
   "cell_type": "markdown",
   "metadata": {
    "collapsed": true,
    "pycharm": {
     "name": "#%% md\n"
    }
   },
   "source": [
    "#### 1. 使用非阻塞实现http请求\n",
    "在等待的过程中（while) 不会出现阻塞，可以进行另外的操作"
   ]
  },
  {
   "cell_type": "code",
   "execution_count": null,
   "metadata": {
    "pycharm": {
     "name": "#%%\n",
     "is_executing": true
    }
   },
   "outputs": [],
   "source": [
    "import socket\n",
    "import time\n",
    "from urllib.parse import urlparse\n",
    "\n",
    "\n",
    "def get_html(url):\n",
    "    # 对url进行解析\n",
    "    # urlparse(\"scheme://netloc/path;parameters?query#fragment\")\n",
    "    # ParseResult(scheme='scheme', netloc='netloc', path='/path;parameters', params='',\n",
    "    #             query='query', fragment='fragment')\n",
    "    url = urlparse(url)\n",
    "    host = url.netloc\n",
    "    path = url.path\n",
    "    if path == \"\":\n",
    "        path = \"/\"\n",
    "    client = socket.socket(socket.AF_INET, socket.SOCK_STREAM)\n",
    "    # 非阻塞设置\n",
    "    client.setblocking(False)\n",
    "    try:\n",
    "        client.connect((host, 80))\n",
    "    except BlockingIOError as e:\n",
    "        pass\n",
    "    # 非阻塞发送请求，在while中进行反复请求，循环的过程中可以进行其他操作，发送成功为跳出的条件\n",
    "    while True:\n",
    "        try:\n",
    "            # 这里要用大写的GET\n",
    "            client.send(\"GET {} HTTP/1.1\\r\\nHost:{}\\r\\nConnection:close\\r\\n\\r\\n\".format(path, host).encode('utf8'))\n",
    "            # 如果成功\n",
    "            break\n",
    "        except OSError as e:\n",
    "            pass\n",
    "    data = b''\n",
    "    while True:\n",
    "        try:\n",
    "            d = client.recv(1024)\n",
    "        except BlockingIOError as e:\n",
    "            continue\n",
    "        if d:\n",
    "            data += d\n",
    "        else:\n",
    "            break\n",
    "    data = data.decode(\"utf8\").split(\"\\r\\n\\r\\n\")[1]\n",
    "    print(data)\n",
    "    client.close()\n",
    "\n",
    "\n",
    "start_time = time.time()\n",
    "for url in range(20):\n",
    "    url = \"http://shop.projectsedu.com/goods/{}/\".format(url)\n",
    "    get_html(url)\n",
    "print(time.time() - start_time)"
   ]
  },
  {
   "cell_type": "markdown",
   "source": [
    "### 2. select"
   ],
   "metadata": {
    "collapsed": false,
    "pycharm": {
     "name": "#%% md\n"
    }
   }
  },
  {
   "cell_type": "markdown",
   "metadata": {
    "pycharm": {
     "name": "#%% md\n"
    }
   },
   "source": []
  },
  {
   "cell_type": "code",
   "execution_count": 40,
   "metadata": {
    "pycharm": {
     "name": "#%%\n"
    }
   },
   "outputs": [
    {
     "name": "stdout",
     "output_type": "stream",
     "text": [
      "{\"detail\":\"未找到。\"}\n",
      "{\"id\":7,\"category\":{\"id\":132,\"sub_cat\":[],\"name\":\"进口生鲜\",\"code\":\"jksx\",\"desc\":\"\",\"category_type\":2,\"is_tab\":false,\"add_time\":\"2017-07-29T18:56:34\",\"parent_category\":110},\"images\":[{\"image\":\"http://shop.projectsedu.com/media/goods/images/8_P_1448945032810.jpg\"},{\"image\":\"http://shop.projectsedu.com/media/goods/images/8_P_1448945032646.jpg\"}],\"goods_sn\":\"\",\"name\":\"五星眼肉牛排套餐8片装原味原切生鲜牛肉\",\"click_num\":3037,\"sold_num\":0,\"fav_num\":0,\"goods_num\":0,\"market_price\":150.0,\"shop_price\":125.0,\"goods_brief\":\"\",\"goods_desc\":\"<p><img src=\\\"/media/goods/images/2_20170719161405_249.jpg\\\" title=\\\"\\\" alt=\\\"2.jpg\\\"/></p><p><img src=\\\"/media/goods/images/2_20170719161414_628.jpg\\\" title=\\\"\\\" alt=\\\"2.jpg\\\"/></p><p><img src=\\\"/media/goods/images/2_20170719161435_381.jpg\\\" title=\\\"\\\" alt=\\\"2.jpg\\\"/></p>\",\"ship_free\":true,\"goods_front_image\":\"http://shop.projectsedu.com/media/goods/images/8_P_1448945032810.jpg\",\"is_new\":false,\"is_hot\":false,\"add_time\":\"2017-07-31T23:53:53\"}\n",
      "{\"id\":1,\"category\":{\"id\":129,\"sub_cat\":[],\"name\":\"根茎类\",\"code\":\"gjl\",\"desc\":\"\",\"category_type\":2,\"is_tab\":false,\"add_time\":\"2017-07-29T18:56:34\",\"parent_category\":110},\"images\":[{\"image\":\"http://shop.projectsedu.com/media/goods/images/1_P_1449024889889.jpg\"},{\"image\":\"http://shop.projectsedu.com/media/goods/images/1_P_1449024889264.jpg\"},{\"image\":\"http://shop.projectsedu.com/media/goods/images/1_P_1449024889726.jpg\"},{\"image\":\"http://shop.projectsedu.com/media/goods/images/1_P_1449024889018.jpg\"},{\"image\":\"http://shop.projectsedu.com/media/goods/images/1_P_1449024889287.jpg\"}],\"goods_sn\":\"\",\"name\":\"新鲜水果甜蜜香脆单果约800克\",\"click_num\":4966,\"sold_num\":0,\"fav_num\":0,\"goods_num\":-16,\"market_price\":232.0,\"shop_price\":156.0,\"goods_brief\":\"食用百香果可以增加胃部饱腹感，减少余热量的摄入，还可以吸附胆固醇和胆汁之类有机分子，抑制人体对脂肪的吸收。因此，长期食用有利于改善人体营养吸收结构，降低体内脂肪，塑造健康优美体态。\",\"goods_desc\":\"<p><img src=\\\"/media/goods/images/2_20170719161405_249.jpg\\\" title=\\\"\\\" alt=\\\"2.jpg\\\"/></p><p><img src=\\\"/media/goods/images/2_20170719161414_628.jpg\\\" title=\\\"\\\" alt=\\\"2.jpg\\\"/></p><p><img src=\\\"/media/goods/images/2_20170719161435_381.jpg\\\" title=\\\"\\\" alt=\\\"2.jpg\\\"/></p>\",\"ship_free\":true,\"goods_front_image\":\"http://shop.projectsedu.com/media/goods/images/1_P_1449024889889.jpg\",\"is_new\":false,\"is_hot\":false,\"add_time\":\"2017-07-31T23:53:52\"}\n",
      "{\"id\":10,\"category\":{\"id\":129,\"sub_cat\":[],\"name\":\"根茎类\",\"code\":\"gjl\",\"desc\":\"\",\"category_type\":2,\"is_tab\":false,\"add_time\":\"2017-07-29T18:56:34\",\"parent_category\":110},\"images\":[{\"image\":\"http://shop.projectsedu.com/media/goods/images/9_P_1448944791617.jpg\"},{\"image\":\"http://shop.projectsedu.com/media/goods/images/9_P_1448944791129.jpg\"},{\"image\":\"http://shop.projectsedu.com/media/goods/images/9_P_1448944791077.jpg\"},{\"image\":\"http://shop.projectsedu.com/media/goods/images/9_P_1448944791229.jpg\"}],\"goods_sn\":\"\",\"name\":\"爱食派内蒙古呼伦贝尔冷冻生鲜牛腱子肉1000g\",\"click_num\":2685,\"sold_num\":0,\"fav_num\":0,\"goods_num\":0,\"market_price\":202.0,\"shop_price\":168.0,\"goods_brief\":\"\",\"goods_desc\":\"<p><img src=\\\"/media/goods/images/2_20170719161405_249.jpg\\\" title=\\\"\\\" alt=\\\"2.jpg\\\"/></p><p><img src=\\\"/media/goods/images/2_20170719161414_628.jpg\\\" title=\\\"\\\" alt=\\\"2.jpg\\\"/></p><p><img src=\\\"/media/goods/images/2_20170719161435_381.jpg\\\" title=\\\"\\\" alt=\\\"2.jpg\\\"/></p>\",\"ship_free\":true,\"goods_front_image\":\"http://shop.projectsedu.com/media/goods/images/9_P_1448944791617.jpg\",\"is_new\":false,\"is_hot\":false,\"add_time\":\"2017-07-31T23:53:53\"}\n",
      "{\"id\":9,\"category\":{\"id\":131,\"sub_cat\":[],\"name\":\"菌菇类\",\"code\":\"jgl\",\"desc\":\"\",\"category_type\":2,\"is_tab\":false,\"add_time\":\"2017-07-29T18:56:34\",\"parent_category\":110},\"images\":[{\"image\":\"http://shop.projectsedu.com/media/goods/images/6_P_1448945167279.jpg\"},{\"image\":\"http://shop.projectsedu.com/media/goods/images/6_P_1448945167015.jpg\"}],\"goods_sn\":\"\",\"name\":\"潮香村澳洲进口牛排家庭团购套餐20片\",\"click_num\":2943,\"sold_num\":0,\"fav_num\":0,\"goods_num\":0,\"market_price\":239.0,\"shop_price\":199.0,\"goods_brief\":\"\",\"goods_desc\":\"<p><img src=\\\"/media/goods/images/2_20170719161405_249.jpg\\\" title=\\\"\\\" alt=\\\"2.jpg\\\"/></p><p><img src=\\\"/media/goods/images/2_20170719161414_628.jpg\\\" title=\\\"\\\" alt=\\\"2.jpg\\\"/></p><p><img src=\\\"/media/goods/images/2_20170719161435_381.jpg\\\" title=\\\"\\\" alt=\\\"2.jpg\\\"/></p>\",\"ship_free\":true,\"goods_front_image\":\"http://shop.projectsedu.com/media/goods/images/6_P_1448945167279.jpg\",\"is_new\":false,\"is_hot\":false,\"add_time\":\"2017-07-31T23:53:53\"}\n",
      "{\"id\":6,\"category\":{\"id\":130,\"sub_cat\":[],\"name\":\"茄果类\",\"code\":\"qgl\",\"desc\":\"\",\"category_type\":2,\"is_tab\":false,\"add_time\":\"2017-07-29T18:56:34\",\"parent_category\":110},\"images\":[{\"image\":\"http://shop.projectsedu.com/media/goods/images/4_P_1448945381985.jpg\"},{\"image\":\"http://shop.projectsedu.com/media/goods/images/4_P_1448945381013.jpg\"}],\"goods_sn\":\"\",\"name\":\"乌拉圭进口牛肉卷特级肥牛卷\",\"click_num\":3009,\"sold_num\":0,\"fav_num\":0,\"goods_num\":0,\"market_price\":90.0,\"shop_price\":75.0,\"goods_brief\":\"\",\"goods_desc\":\"<p><img src=\\\"/media/goods/images/2_20170719161405_249.jpg\\\" title=\\\"\\\" alt=\\\"2.jpg\\\"/></p><p><img src=\\\"/media/goods/images/2_20170719161414_628.jpg\\\" title=\\\"\\\" alt=\\\"2.jpg\\\"/></p><p><img src=\\\"/media/goods/images/2_20170719161435_381.jpg\\\" title=\\\"\\\" alt=\\\"2.jpg\\\"/></p>\",\"ship_free\":true,\"goods_front_image\":\"http://shop.projectsedu.com/media/goods/images/4_P_1448945381985.jpg\",\"is_new\":false,\"is_hot\":false,\"add_time\":\"2017-07-31T23:53:53\"}\n",
      "{\"id\":12,\"category\":{\"id\":116,\"sub_cat\":[{\"id\":117,\"sub_cat\":[],\"name\":\"参鲍\",\"code\":\"cb\",\"desc\":\"\",\"category_type\":3,\"is_tab\":false,\"add_time\":\"2017-07-29T18:56:33\",\"parent_category\":116},{\"id\":118,\"sub_cat\":[],\"name\":\"鱼\",\"code\":\"yu\",\"desc\":\"\",\"category_type\":3,\"is_tab\":false,\"add_time\":\"2017-07-29T18:56:33\",\"parent_category\":116},{\"id\":119,\"sub_cat\":[],\"name\":\"虾\",\"code\":\"xia\",\"desc\":\"\",\"category_type\":3,\"is_tab\":false,\"add_time\":\"2017-07-29T18:56:33\",\"parent_category\":116},{\"id\":120,\"sub_cat\":[],\"name\":\"蟹/贝\",\"code\":\"xb\",\"desc\":\"\",\"category_type\":3,\"is_tab\":false,\"add_time\":\"2017-07-29T18:56:33\",\"parent_category\":116}],\"name\":\"海鲜水产\",\"code\":\"hxsc\",\"desc\":\"\",\"category_type\":2,\"is_tab\":false,\"add_time\":\"2017-07-29T18:56:33\",\"parent_category\":110},\"images\":[{\"image\":\"http://shop.projectsedu.com/media/goods/images/48_P_1448943988970.jpg\"},{\"image\":\"http://shop.projectsedu.com/media/goods/images/48_P_1448943988898.jpg\"},{\"image\":\"http://shop.projectsedu.com/media/goods/images/48_P_1448943988439.jpg\"}],\"goods_sn\":\"\",\"name\":\"新疆巴尔鲁克生鲜牛排眼肉牛扒1200g\",\"click_num\":2664,\"sold_num\":0,\"fav_num\":0,\"goods_num\":0,\"market_price\":126.0,\"shop_price\":88.0,\"goods_brief\":\"\",\"goods_desc\":\"<p><img src=\\\"/media/goods/images/2_20170719161405_249.jpg\\\" title=\\\"\\\" alt=\\\"2.jpg\\\"/></p><p><img src=\\\"/media/goods/images/2_20170719161414_628.jpg\\\" title=\\\"\\\" alt=\\\"2.jpg\\\"/></p><p><img src=\\\"/media/goods/images/2_20170719161435_381.jpg\\\" title=\\\"\\\" alt=\\\"2.jpg\\\"/></p>\",\"ship_free\":true,\"goods_front_image\":\"http://shop.projectsedu.com/media/goods/images/48_P_1448943988970.jpg\",\"is_new\":false,\"is_hot\":false,\"add_time\":\"2017-07-31T23:53:53\"}\n",
      "{\"id\":5,\"category\":{\"id\":116,\"sub_cat\":[{\"id\":117,\"sub_cat\":[],\"name\":\"参鲍\",\"code\":\"cb\",\"desc\":\"\",\"category_type\":3,\"is_tab\":false,\"add_time\":\"2017-07-29T18:56:33\",\"parent_category\":116},{\"id\":118,\"sub_cat\":[],\"name\":\"鱼\",\"code\":\"yu\",\"desc\":\"\",\"category_type\":3,\"is_tab\":false,\"add_time\":\"2017-07-29T18:56:33\",\"parent_category\":116},{\"id\":119,\"sub_cat\":[],\"name\":\"虾\",\"code\":\"xia\",\"desc\":\"\",\"category_type\":3,\"is_tab\":false,\"add_time\":\"2017-07-29T18:56:33\",\"parent_category\":116},{\"id\":120,\"sub_cat\":[],\"name\":\"蟹/贝\",\"code\":\"xb\",\"desc\":\"\",\"category_type\":3,\"is_tab\":false,\"add_time\":\"2017-07-29T18:56:33\",\"parent_category\":116}],\"name\":\"海鲜水产\",\"code\":\"hxsc\",\"desc\":\"\",\"category_type\":2,\"is_tab\":false,\"add_time\":\"2017-07-29T18:56:33\",\"parent_category\":110},\"images\":[{\"image\":\"http://shop.projectsedu.com/media/goods/images/10_P_1448944572085.jpg\"},{\"image\":\"http://shop.projectsedu.com/media/goods/images/10_P_1448944572532.jpg\"},{\"image\":\"http://shop.projectsedu.com/media/goods/images/10_P_1448944572872.jpg\"}],\"goods_sn\":\"\",\"name\":\"内蒙新鲜牛肉1斤清真生鲜牛肉火锅食材\",\"click_num\":3122,\"sold_num\":0,\"fav_num\":0,\"goods_num\":0,\"market_price\":106.0,\"shop_price\":88.0,\"goods_brief\":\"\",\"goods_desc\":\"<p><img src=\\\"/media/goods/images/2_20170719161405_249.jpg\\\" title=\\\"\\\" alt=\\\"2.jpg\\\"/></p><p><img src=\\\"/media/goods/images/2_20170719161414_628.jpg\\\" title=\\\"\\\" alt=\\\"2.jpg\\\"/></p><p><img src=\\\"/media/goods/images/2_20170719161435_381.jpg\\\" title=\\\"\\\" alt=\\\"2.jpg\\\"/></p>\",\"ship_free\":true,\"goods_front_image\":\"http://shop.projectsedu.com/media/goods/images/10_P_1448944572085.jpg\",\"is_new\":false,\"is_hot\":false,\"add_time\":\"2017-07-31T23:53:53\"}\n",
      "{\"id\":11,\"category\":{\"id\":111,\"sub_cat\":[{\"id\":112,\"sub_cat\":[],\"name\":\"羊肉\",\"code\":\"yr\",\"desc\":\"\",\"category_type\":3,\"is_tab\":false,\"add_time\":\"2017-07-29T18:56:33\",\"parent_category\":111},{\"id\":113,\"sub_cat\":[],\"name\":\"禽类\",\"code\":\"ql\",\"desc\":\"\",\"category_type\":3,\"is_tab\":false,\"add_time\":\"2017-07-29T18:56:33\",\"parent_category\":111},{\"id\":114,\"sub_cat\":[],\"name\":\"猪肉\",\"code\":\"zr\",\"desc\":\"\",\"category_type\":3,\"is_tab\":false,\"add_time\":\"2017-07-29T18:56:33\",\"parent_category\":111},{\"id\":115,\"sub_cat\":[],\"name\":\"牛肉\",\"code\":\"nr\",\"desc\":\"\",\"category_type\":3,\"is_tab\":false,\"add_time\":\"2017-07-29T18:56:33\",\"parent_category\":111}],\"name\":\"精品肉类\",\"code\":\"jprl\",\"desc\":\"\",\"category_type\":2,\"is_tab\":false,\"add_time\":\"2017-07-29T18:56:33\",\"parent_category\":110},\"images\":[{\"image\":\"http://shop.projectsedu.com/media/goods/images/3_P_1448945490837.jpg\"},{\"image\":\"http://shop.projectsedu.com/media/goods/images/3_P_1448945490084.jpg\"}],\"goods_sn\":\"\",\"name\":\"澳洲进口牛尾巴300g新鲜肥牛肉\",\"click_num\":2760,\"sold_num\":0,\"fav_num\":0,\"goods_num\":0,\"market_price\":306.0,\"shop_price\":255.0,\"goods_brief\":\"新鲜羊羔肉整只共15斤，原生态大山放牧羊羔，曾经的皇室贡品，央视推荐，2005年北京招待全球财金首脑。五层专用包装箱+真空包装+冰袋+保鲜箱+顺丰冷链发货，路途保质期8天\",\"goods_desc\":\"<p><img src=\\\"/media/goods/images/2_20170719161405_249.jpg\\\" title=\\\"\\\" alt=\\\"2.jpg\\\"/></p><p><img src=\\\"/media/goods/images/2_20170719161414_628.jpg\\\" title=\\\"\\\" alt=\\\"2.jpg\\\"/></p><p><img src=\\\"/media/goods/images/2_20170719161435_381.jpg\\\" title=\\\"\\\" alt=\\\"2.jpg\\\"/></p>\",\"ship_free\":true,\"goods_front_image\":\"http://shop.projectsedu.com/media/goods/images/3_P_1448945490837.jpg\",\"is_new\":false,\"is_hot\":false,\"add_time\":\"2017-07-31T23:53:53\"}\n",
      "{\"id\":2,\"category\":{\"id\":116,\"sub_cat\":[{\"id\":117,\"sub_cat\":[],\"name\":\"参鲍\",\"code\":\"cb\",\"desc\":\"\",\"category_type\":3,\"is_tab\":false,\"add_time\":\"2017-07-29T18:56:33\",\"parent_category\":116},{\"id\":118,\"sub_cat\":[],\"name\":\"鱼\",\"code\":\"yu\",\"desc\":\"\",\"category_type\":3,\"is_tab\":false,\"add_time\":\"2017-07-29T18:56:33\",\"parent_category\":116},{\"id\":119,\"sub_cat\":[],\"name\":\"虾\",\"code\":\"xia\",\"desc\":\"\",\"category_type\":3,\"is_tab\":false,\"add_time\":\"2017-07-29T18:56:33\",\"parent_category\":116},{\"id\":120,\"sub_cat\":[],\"name\":\"蟹/贝\",\"code\":\"xb\",\"desc\":\"\",\"category_type\":3,\"is_tab\":false,\"add_time\":\"2017-07-29T18:56:33\",\"parent_category\":116}],\"name\":\"海鲜水产\",\"code\":\"hxsc\",\"desc\":\"\",\"category_type\":2,\"is_tab\":false,\"add_time\":\"2017-07-29T18:56:33\",\"parent_category\":110},\"images\":[{\"image\":\"http://shop.projectsedu.com/media/goods/images/2_P_1448945810202.jpg\"},{\"image\":\"http://shop.projectsedu.com/media/15_P_1448947257324.jpg\"},{\"image\":\"http://shop.projectsedu.com/media/2_20170719161405_249.jpg\"},{\"image\":\"http://shop.projectsedu.com/media/9_P_1448944791617.jpg\"}],\"goods_sn\":\"sssss\",\"name\":\"田然牛肉大黄瓜条生鲜牛肉冷冻真空黄牛\",\"click_num\":4029,\"sold_num\":100,\"fav_num\":0,\"goods_num\":-5,\"market_price\":106.0,\"shop_price\":88.0,\"goods_brief\":\"前腿+后腿+羊排共8斤，原生态大山放牧羊羔，曾经的皇室贡品，央视推荐，2005年北京招待全球财金首脑。五层专用包装箱+真空包装+冰袋+保鲜箱+顺丰冷链发货，路途保质期8天\",\"goods_desc\":\"<p><img src=\\\"/media/goods/images/2_20170719161405_249.jpg\\\" title=\\\"\\\" alt=\\\"2.jpg\\\"/> </p><p><img src=\\\"/media/goods/images/2_20170719161414_628.jpg\\\" title=\\\"\\\" alt=\\\"2.jpg\\\"/> </p><p><img src=\\\"/media/goods/images/2_20170719161435_381.jpg\\\" title=\\\"\\\" alt=\\\"2.jpg\\\"/> </p>\",\"ship_free\":true,\"goods_front_image\":\"http://shop.projectsedu.com/media/goods/images/2_P_1448945810202.jpg\",\"is_new\":false,\"is_hot\":false,\"add_time\":\"2017-07-31T23:53:00\"}\n",
      "{\"id\":4,\"category\":{\"id\":129,\"sub_cat\":[],\"name\":\"根茎类\",\"code\":\"gjl\",\"desc\":\"\",\"category_type\":2,\"is_tab\":false,\"add_time\":\"2017-07-29T18:56:34\",\"parent_category\":110},\"images\":[{\"image\":\"http://shop.projectsedu.com/media/goods/images/47_P_1448946213263.jpg\"},{\"image\":\"http://shop.projectsedu.com/media/goods/images/47_P_1448946213157.jpg\"}],\"goods_sn\":\"\",\"name\":\"日本蒜蓉粉丝扇贝270克6只装\",\"click_num\":3318,\"sold_num\":0,\"fav_num\":-1,\"goods_num\":0,\"market_price\":156.0,\"shop_price\":108.0,\"goods_brief\":\"\",\"goods_desc\":\"<p><img src=\\\"/media/goods/images/2_20170719161405_249.jpg\\\" title=\\\"\\\" alt=\\\"2.jpg\\\"/></p><p><img src=\\\"/media/goods/images/2_20170719161414_628.jpg\\\" title=\\\"\\\" alt=\\\"2.jpg\\\"/></p><p><img src=\\\"/media/goods/images/2_20170719161435_381.jpg\\\" title=\\\"\\\" alt=\\\"2.jpg\\\"/></p>\",\"ship_free\":true,\"goods_front_image\":\"http://shop.projectsedu.com/media/goods/images/47_P_1448946213263.jpg\",\"is_new\":false,\"is_hot\":false,\"add_time\":\"2017-07-31T23:53:53\"}\n",
      "{\"id\":8,\"category\":{\"id\":116,\"sub_cat\":[{\"id\":117,\"sub_cat\":[],\"name\":\"参鲍\",\"code\":\"cb\",\"desc\":\"\",\"category_type\":3,\"is_tab\":false,\"add_time\":\"2017-07-29T18:56:33\",\"parent_category\":116},{\"id\":118,\"sub_cat\":[],\"name\":\"鱼\",\"code\":\"yu\",\"desc\":\"\",\"category_type\":3,\"is_tab\":false,\"add_time\":\"2017-07-29T18:56:33\",\"parent_category\":116},{\"id\":119,\"sub_cat\":[],\"name\":\"虾\",\"code\":\"xia\",\"desc\":\"\",\"category_type\":3,\"is_tab\":false,\"add_time\":\"2017-07-29T18:56:33\",\"parent_category\":116},{\"id\":120,\"sub_cat\":[],\"name\":\"蟹/贝\",\"code\":\"xb\",\"desc\":\"\",\"category_type\":3,\"is_tab\":false,\"add_time\":\"2017-07-29T18:56:33\",\"parent_category\":116}],\"name\":\"海鲜水产\",\"code\":\"hxsc\",\"desc\":\"\",\"category_type\":2,\"is_tab\":false,\"add_time\":\"2017-07-29T18:56:33\",\"parent_category\":110},\"images\":[{\"image\":\"http://shop.projectsedu.com/media/goods/images/11_P_1448944388277.jpg\"},{\"image\":\"http://shop.projectsedu.com/media/goods/images/11_P_1448944388034.jpg\"},{\"image\":\"http://shop.projectsedu.com/media/goods/images/11_P_1448944388201.jpg\"}],\"goods_sn\":\"\",\"name\":\"澳洲进口120天谷饲牛仔骨4份原味生鲜\",\"click_num\":2940,\"sold_num\":0,\"fav_num\":0,\"goods_num\":0,\"market_price\":31.0,\"shop_price\":26.0,\"goods_brief\":\"\",\"goods_desc\":\"<p><img src=\\\"/media/goods/images/2_20170719161405_249.jpg\\\" title=\\\"\\\" alt=\\\"2.jpg\\\"/></p><p><img src=\\\"/media/goods/images/2_20170719161414_628.jpg\\\" title=\\\"\\\" alt=\\\"2.jpg\\\"/></p><p><img src=\\\"/media/goods/images/2_20170719161435_381.jpg\\\" title=\\\"\\\" alt=\\\"2.jpg\\\"/></p>\",\"ship_free\":true,\"goods_front_image\":\"http://shop.projectsedu.com/media/goods/images/11_P_1448944388277.jpg\",\"is_new\":false,\"is_hot\":false,\"add_time\":\"2017-07-31T23:53:53\"}\n",
      "{\"id\":3,\"category\":{\"id\":124,\"sub_cat\":[{\"id\":125,\"sub_cat\":[],\"name\":\"生菜\",\"code\":\"sc\",\"desc\":\"\",\"category_type\":3,\"is_tab\":false,\"add_time\":\"2017-07-29T18:56:34\",\"parent_category\":124},{\"id\":126,\"sub_cat\":[],\"name\":\"菠菜\",\"code\":\"bc\",\"desc\":\"\",\"category_type\":3,\"is_tab\":false,\"add_time\":\"2017-07-29T18:56:34\",\"parent_category\":124},{\"id\":127,\"sub_cat\":[],\"name\":\"圆椒\",\"code\":\"yj\",\"desc\":\"\",\"category_type\":3,\"is_tab\":false,\"add_time\":\"2017-07-29T18:56:34\",\"parent_category\":124},{\"id\":128,\"sub_cat\":[],\"name\":\"西兰花\",\"code\":\"xlh\",\"desc\":\"\",\"category_type\":3,\"is_tab\":false,\"add_time\":\"2017-07-29T18:56:34\",\"parent_category\":124}],\"name\":\"叶菜类\",\"code\":\"ycl\",\"desc\":\"\",\"category_type\":2,\"is_tab\":false,\"add_time\":\"2017-07-29T18:56:34\",\"parent_category\":110},\"images\":[{\"image\":\"http://shop.projectsedu.com/media/goods/images/7_P_1448945104883.jpg\"},{\"image\":\"http://shop.projectsedu.com/media/goods/images/7_P_1448945104734.jpg\"}],\"goods_sn\":\"\",\"name\":\"酣畅家庭菲力牛排10片澳洲生鲜牛肉团购套餐\",\"click_num\":3229,\"sold_num\":0,\"fav_num\":0,\"goods_num\":0,\"market_price\":286.0,\"shop_price\":238.0,\"goods_brief\":\"\",\"goods_desc\":\"<p><img src=\\\"/media/goods/images/2_20170719161405_249.jpg\\\" title=\\\"\\\" alt=\\\"2.jpg\\\"/></p><p><img src=\\\"/media/goods/images/2_20170719161414_628.jpg\\\" title=\\\"\\\" alt=\\\"2.jpg\\\"/></p><p><img src=\\\"/media/goods/images/2_20170719161435_381.jpg\\\" title=\\\"\\\" alt=\\\"2.jpg\\\"/></p>\",\"ship_free\":true,\"goods_front_image\":\"http://shop.projectsedu.com/media/goods/images/7_P_1448945104883.jpg\",\"is_new\":false,\"is_hot\":false,\"add_time\":\"2017-07-31T23:53:53\"}\n",
      "{\"id\":18,\"category\":{\"id\":138,\"sub_cat\":[],\"name\":\"葡萄酒\",\"code\":\"ptj\",\"desc\":\"\",\"category_type\":2,\"is_tab\":false,\"add_time\":\"2017-07-29T18:56:34\",\"parent_category\":133},\"images\":[{\"image\":\"http://shop.projectsedu.com/media/goods/images/46_P_1448946598711.jpg\"},{\"image\":\"http://shop.projectsedu.com/media/goods/images/46_P_1448946598301.jpg\"}],\"goods_sn\":\"\",\"name\":\"双响炮洋酒JimBeamwhiskey美国白占边\",\"click_num\":2667,\"sold_num\":0,\"fav_num\":0,\"goods_num\":0,\"market_price\":38.0,\"shop_price\":28.0,\"goods_brief\":\"\",\"goods_desc\":\"<p><img src=\\\"/media/goods/images/2_20170719161405_249.jpg\\\" title=\\\"\\\" alt=\\\"2.jpg\\\"/></p><p><img src=\\\"/media/goods/images/2_20170719161414_628.jpg\\\" title=\\\"\\\" alt=\\\"2.jpg\\\"/></p><p><img src=\\\"/media/goods/images/2_20170719161435_381.jpg\\\" title=\\\"\\\" alt=\\\"2.jpg\\\"/></p>\",\"ship_free\":true,\"goods_front_image\":\"http://shop.projectsedu.com/media/goods/images/46_P_1448946598711.jpg\",\"is_new\":false,\"is_hot\":false,\"add_time\":\"2017-07-31T23:53:54\"}\n",
      "{\"id\":14,\"category\":{\"id\":130,\"sub_cat\":[],\"name\":\"茄果类\",\"code\":\"qgl\",\"desc\":\"\",\"category_type\":2,\"is_tab\":false,\"add_time\":\"2017-07-29T18:56:34\",\"parent_category\":110},\"images\":[{\"image\":\"http://shop.projectsedu.com/media/images/201705/goods_img/53_P_1495068879687.jpg\"}],\"goods_sn\":\"\",\"name\":\"帐篷出租\",\"click_num\":2709,\"sold_num\":0,\"fav_num\":0,\"goods_num\":0,\"market_price\":120.0,\"shop_price\":100.0,\"goods_brief\":\"\",\"goods_desc\":\"<p><img src=\\\"/media/goods/images/2_20170719161405_249.jpg\\\" title=\\\"\\\" alt=\\\"2.jpg\\\"/></p><p><img src=\\\"/media/goods/images/2_20170719161414_628.jpg\\\" title=\\\"\\\" alt=\\\"2.jpg\\\"/></p><p><img src=\\\"/media/goods/images/2_20170719161435_381.jpg\\\" title=\\\"\\\" alt=\\\"2.jpg\\\"/></p>\",\"ship_free\":true,\"goods_front_image\":\"http://shop.projectsedu.com/media/goods/images/53_P_1495068879687.jpg\",\"is_new\":false,\"is_hot\":false,\"add_time\":\"2017-07-31T23:53:54\"}\n",
      "{\"id\":13,\"category\":{\"id\":121,\"sub_cat\":[{\"id\":122,\"sub_cat\":[],\"name\":\"松花蛋/咸鸭蛋\",\"code\":\"xhd_xyd\",\"desc\":\"\",\"category_type\":3,\"is_tab\":false,\"add_time\":\"2017-07-29T18:56:34\",\"parent_category\":121},{\"id\":123,\"sub_cat\":[],\"name\":\"鸡蛋\",\"code\":\"jd\",\"desc\":\"\",\"category_type\":3,\"is_tab\":false,\"add_time\":\"2017-07-29T18:56:34\",\"parent_category\":121}],\"name\":\"蛋制品\",\"code\":\"dzp\",\"desc\":\"\",\"category_type\":2,\"is_tab\":false,\"add_time\":\"2017-07-29T18:56:34\",\"parent_category\":110},\"images\":[{\"image\":\"http://shop.projectsedu.com/media/goods/images/5_P_1448945270390.jpg\"},{\"image\":\"http://shop.projectsedu.com/media/goods/images/5_P_1448945270067.jpg\"},{\"image\":\"http://shop.projectsedu.com/media/goods/images/5_P_1448945270432.jpg\"}],\"goods_sn\":\"\",\"name\":\"澳洲进口安格斯牛切片上脑牛排1000g\",\"click_num\":2697,\"sold_num\":0,\"fav_num\":0,\"goods_num\":-1,\"market_price\":144.0,\"shop_price\":120.0,\"goods_brief\":\"澳大利亚是国际公认的没有疯牛病和口蹄疫的国家。为了保持澳大利亚产品的高标准，澳大利亚牛肉业和各级政府共同努力简历了严格的标准和体系，以保证生产的整体化和产品的可追溯性\",\"goods_desc\":\"<p><img src=\\\"/media/goods/images/2_20170719161405_249.jpg\\\" title=\\\"\\\" alt=\\\"2.jpg\\\"/></p><p><img src=\\\"/media/goods/images/2_20170719161414_628.jpg\\\" title=\\\"\\\" alt=\\\"2.jpg\\\"/></p><p><img src=\\\"/media/goods/images/2_20170719161435_381.jpg\\\" title=\\\"\\\" alt=\\\"2.jpg\\\"/></p>\",\"ship_free\":true,\"goods_front_image\":\"http://shop.projectsedu.com/media/goods/images/5_P_1448945270390.jpg\",\"is_new\":false,\"is_hot\":false,\"add_time\":\"2017-07-31T23:53:54\"}\n",
      "{\"id\":15,\"category\":{\"id\":146,\"sub_cat\":[{\"id\":147,\"sub_cat\":[],\"name\":\"白兰地\",\"code\":\"bld\",\"desc\":\"\",\"category_type\":3,\"is_tab\":false,\"add_time\":\"2017-07-29T18:56:34\",\"parent_category\":146},{\"id\":148,\"sub_cat\":[],\"name\":\"威士忌\",\"code\":\"wsj\",\"desc\":\"\",\"category_type\":3,\"is_tab\":false,\"add_time\":\"2017-07-29T18:56:34\",\"parent_category\":146}],\"name\":\"红酒\",\"code\":\"hj\",\"desc\":\"\",\"category_type\":2,\"is_tab\":false,\"add_time\":\"2017-07-29T18:56:34\",\"parent_category\":133},\"images\":[{\"image\":\"http://shop.projectsedu.com/media/goods/images/16_P_1448947194687.jpg\"}],\"goods_sn\":\"\",\"name\":\"52度茅台集团国隆双喜酒500mlx6\",\"click_num\":2782,\"sold_num\":0,\"fav_num\":0,\"goods_num\":-5,\"market_price\":23.0,\"shop_price\":19.0,\"goods_brief\":\"贵州茅台酒厂（集团）保健酒业有限公司生产，是以“龙”字打头的酒水。中国龙文化上下8000年，源远而流长，龙的形象是一种符号、一种意绪、一种血肉相联的情感。\",\"goods_desc\":\"<p><img src=\\\"/media/goods/images/2_20170719161405_249.jpg\\\" title=\\\"\\\" alt=\\\"2.jpg\\\"/></p><p><img src=\\\"/media/goods/images/2_20170719161414_628.jpg\\\" title=\\\"\\\" alt=\\\"2.jpg\\\"/></p><p><img src=\\\"/media/goods/images/2_20170719161435_381.jpg\\\" title=\\\"\\\" alt=\\\"2.jpg\\\"/></p>\",\"ship_free\":true,\"goods_front_image\":\"http://shop.projectsedu.com/media/goods/images/16_P_1448947194687.jpg\",\"is_new\":false,\"is_hot\":false,\"add_time\":\"2017-07-31T23:53:54\"}\n",
      "{\"id\":19,\"category\":{\"id\":145,\"sub_cat\":[],\"name\":\"饮料/水\",\"code\":\"yls\",\"desc\":\"\",\"category_type\":2,\"is_tab\":false,\"add_time\":\"2017-07-29T18:56:34\",\"parent_category\":133},\"images\":[{\"image\":\"http://shop.projectsedu.com/media/goods/images/21_P_1448946793276.jpg\"},{\"image\":\"http://shop.projectsedu.com/media/goods/images/21_P_1448946793153.jpg\"}],\"goods_sn\":\"\",\"name\":\"西夫拉姆进口洋酒小酒版\",\"click_num\":2658,\"sold_num\":0,\"fav_num\":0,\"goods_num\":0,\"market_price\":55.0,\"shop_price\":46.0,\"goods_brief\":\"\",\"goods_desc\":\"<p><img src=\\\"/media/goods/images/2_20170719161405_249.jpg\\\" title=\\\"\\\" alt=\\\"2.jpg\\\"/></p><p><img src=\\\"/media/goods/images/2_20170719161414_628.jpg\\\" title=\\\"\\\" alt=\\\"2.jpg\\\"/></p><p><img src=\\\"/media/goods/images/2_20170719161435_381.jpg\\\" title=\\\"\\\" alt=\\\"2.jpg\\\"/></p>\",\"ship_free\":true,\"goods_front_image\":\"http://shop.projectsedu.com/media/goods/images/21_P_1448946793276.jpg\",\"is_new\":false,\"is_hot\":false,\"add_time\":\"2017-07-31T23:53:54\"}\n",
      "{\"id\":16,\"category\":{\"id\":145,\"sub_cat\":[],\"name\":\"饮料/水\",\"code\":\"yls\",\"desc\":\"\",\"category_type\":2,\"is_tab\":false,\"add_time\":\"2017-07-29T18:56:34\",\"parent_category\":133},\"images\":[{\"image\":\"http://shop.projectsedu.com/media/goods/images/14_P_1448947354031.jpg\"},{\"image\":\"http://shop.projectsedu.com/media/goods/images/14_P_1448947354433.jpg\"}],\"goods_sn\":\"\",\"name\":\"52度水井坊臻酿八號500ml\",\"click_num\":2704,\"sold_num\":0,\"fav_num\":0,\"goods_num\":-3,\"market_price\":43.0,\"shop_price\":36.0,\"goods_brief\":\"\",\"goods_desc\":\"<p><img src=\\\"/media/goods/images/2_20170719161405_249.jpg\\\" title=\\\"\\\" alt=\\\"2.jpg\\\"/></p><p><img src=\\\"/media/goods/images/2_20170719161414_628.jpg\\\" title=\\\"\\\" alt=\\\"2.jpg\\\"/></p><p><img src=\\\"/media/goods/images/2_20170719161435_381.jpg\\\" title=\\\"\\\" alt=\\\"2.jpg\\\"/></p>\",\"ship_free\":true,\"goods_front_image\":\"http://shop.projectsedu.com/media/goods/images/14_P_1448947354031.jpg\",\"is_new\":false,\"is_hot\":false,\"add_time\":\"2017-07-31T23:53:54\"}\n",
      "{\"id\":17,\"category\":{\"id\":141,\"sub_cat\":[{\"id\":142,\"sub_cat\":[],\"name\":\"其他品牌\",\"code\":\"qtpp\",\"desc\":\"\",\"category_type\":3,\"is_tab\":false,\"add_time\":\"2017-07-29T18:56:34\",\"parent_category\":141},{\"id\":143,\"sub_cat\":[],\"name\":\"黄酒\",\"code\":\"hj\",\"desc\":\"\",\"category_type\":3,\"is_tab\":false,\"add_time\":\"2017-07-29T18:56:34\",\"parent_category\":141},{\"id\":144,\"sub_cat\":[],\"name\":\"养生酒\",\"code\":\"ysj\",\"desc\":\"\",\"category_type\":3,\"is_tab\":false,\"add_time\":\"2017-07-29T18:56:34\",\"parent_category\":141}],\"name\":\"其他酒品\",\"code\":\"qtjp\",\"desc\":\"\",\"category_type\":2,\"is_tab\":false,\"add_time\":\"2017-07-29T18:56:34\",\"parent_category\":133},\"images\":[{\"image\":\"http://shop.projectsedu.com/media/goods/images/12_P_1448947547989.jpg\"}],\"goods_sn\":\"\",\"name\":\"53度茅台仁酒500ml\",\"click_num\":2644,\"sold_num\":0,\"fav_num\":0,\"goods_num\":0,\"market_price\":190.0,\"shop_price\":158.0,\"goods_brief\":\"\",\"goods_desc\":\"<p><img src=\\\"/media/goods/images/2_20170719161405_249.jpg\\\" title=\\\"\\\" alt=\\\"2.jpg\\\"/></p><p><img src=\\\"/media/goods/images/2_20170719161414_628.jpg\\\" title=\\\"\\\" alt=\\\"2.jpg\\\"/></p><p><img src=\\\"/media/goods/images/2_20170719161435_381.jpg\\\" title=\\\"\\\" alt=\\\"2.jpg\\\"/></p>\",\"ship_free\":true,\"goods_front_image\":\"http://shop.projectsedu.com/media/goods/images/12_P_1448947547989.jpg\",\"is_new\":false,\"is_hot\":false,\"add_time\":\"2017-07-31T23:53:54\"}\n",
      "0.5325143337249756\n"
     ]
    }
   ],
   "source": [
    "from selectors import DefaultSelector, EVENT_READ, EVENT_WRITE\n",
    "\n",
    "# windows 下默认为poll。linux下则会为epoll\n",
    "selector = DefaultSelector()\n",
    "urls = []\n",
    "stop = False\n",
    "\n",
    "\n",
    "def loop():\n",
    "    \"\"\"\n",
    "    1. select 本身不支持register模式\n",
    "    2. 描述符 socket 发生变化后的自动回调逻辑需要程序员来完成\n",
    "    不断请求socker状态，并调用对应的回调函数\n",
    "    回调+事件循环+select(poll\\epoll)\n",
    "    :return:\n",
    "    \"\"\"\n",
    "    while not stop:\n",
    "        # key 为一个nametu\n",
    "        ready = selector.select()\n",
    "        for key, mask in ready:\n",
    "            callback = key.data\n",
    "            callback(key)\n",
    "\n",
    "\n",
    "class Fetcher(object):\n",
    "    def __init__(self):\n",
    "        self.data = b''\n",
    "        self.spider_url = None\n",
    "        self.host = None\n",
    "        self.path = None\n",
    "        self.client = socket.socket(socket.AF_INET, socket.SOCK_STREAM)\n",
    "        self.client.setblocking(False)\n",
    "\n",
    "    def connect(self, key):\n",
    "        \"\"\"\n",
    "        # 描述符可读时的回调函数\n",
    "        # 一旦某个描述符就绪( -般是读就绪或者写就绪) ，能够通知程序进行相应的读写操作\n",
    "        :param key:\n",
    "        :return:\n",
    "        \"\"\"\n",
    "        # fd 为描述符self.client.fileno()的值，便于变化时进行观测\n",
    "        selector.unregister(key.fd)\n",
    "        self.client.send(\n",
    "            \"GET {} HTTP/1.1\\r\\nHost:{}\\r\\nConnection:close\\r\\n\\r\\n\".format(self.path, self.host).encode('utf8'))\n",
    "        # 一旦某个描述符就绪( -般是读就绪或者写就绪) ，能够通知程序进行相应的读写操作\n",
    "        selector.register(self.client.fileno(), EVENT_READ, self.read_able)\n",
    "\n",
    "    def read_able(self, key):\n",
    "        \"\"\"\n",
    "        描述符可读时进行的读写操作\n",
    "        :param key:\n",
    "        :return:\n",
    "        \"\"\"\n",
    "        d = self.client.recv(1024)\n",
    "        if d:\n",
    "            self.data += d\n",
    "        else:\n",
    "            selector.unregister(key.fd)\n",
    "            data = self.data.decode(\"utf8\")\n",
    "            # html 内容\n",
    "            html_data = data.split(\"\\r\\n\\r\\n\")[1]\n",
    "            print(html_data)\n",
    "            self.client.close()\n",
    "            urls.remove(self.spider_url)\n",
    "            if not urls:\n",
    "                global stop\n",
    "                stop = True\n",
    "\n",
    "    def get_html(self, url):\n",
    "        # 对url进行解析\n",
    "        # urlparse(\"scheme://netloc/path;parameters?query#fragment\")\n",
    "        # ParseResult(scheme='scheme', netloc='netloc', path='/path;parameters', params='',\n",
    "        #             query='query', fragment='fragment')\n",
    "\n",
    "        self.spider_url = url\n",
    "        url = urlparse(url)\n",
    "        self.host = url.netloc\n",
    "        self.path = url.path\n",
    "        if self.path == \"\":\n",
    "            self.path = \"/\"  # 非阻塞设置\n",
    "        try:\n",
    "            self.client.connect((self.host, 80))\n",
    "        except BlockingIOError as e:\n",
    "            pass\n",
    "        # 非阻塞发送请求，在while中进行反复请求，循环的过程中可以进行其他操作，发送成功为跳出的条件\n",
    "        # 注册描述符,描述符类型, 描述符可读时的回调\n",
    "        selector.register(self.client.fileno(), events=EVENT_WRITE, data=self.connect)\n",
    "\n",
    "\n",
    "start_time = time.time()\n",
    "for url in range(20):\n",
    "    url = \"http://shop.projectsedu.com/goods/{}/\".format(url)\n",
    "    urls.append(url)\n",
    "    fetcher = Fetcher()\n",
    "    fetcher.get_html(url)\n",
    "# url = \"http://www.baidu.com\"\n",
    "# urls.append(url)\n",
    "# fetcher = Fetcher()\n",
    "# fetcher.get_html(url)\n",
    "loop()\n",
    "print(time.time() - start_time)"
   ]
  },
  {
   "cell_type": "markdown",
   "source": [
    "### 3. 协程\n",
    "#### yield\n",
    "#### send方法 发送内容到方法中，通过yield 接收"
   ],
   "metadata": {
    "collapsed": false,
    "pycharm": {
     "name": "#%% md\n"
    }
   }
  },
  {
   "cell_type": "code",
   "execution_count": 32,
   "outputs": [
    {
     "name": "stdout",
     "output_type": "stream",
     "text": [
      "http://projectsedu.com\n",
      "bobby\n",
      "2\n",
      "3\n",
      "end\n"
     ]
    }
   ],
   "source": [
    "def get_func():\n",
    "    name = yield \"http://projectsedu.com\"\n",
    "    print(name)\n",
    "    yield 2\n",
    "    yield 3\n",
    "    return \"end\"\n",
    "\n",
    "\n",
    "gen = get_func()\n",
    "print(next(gen))\n",
    "print(gen.send(\"bobby\"))\n",
    "print(next(gen))\n",
    "try:\n",
    "    re = next(gen)\n",
    "    print(re)\n",
    "except StopIteration as e:\n",
    "    re = e.value\n",
    "    print(re)"
   ],
   "metadata": {
    "collapsed": false,
    "pycharm": {
     "name": "#%%\n"
    }
   }
  },
  {
   "cell_type": "markdown",
   "source": [
    "#### close"
   ],
   "metadata": {
    "collapsed": false,
    "pycharm": {
     "name": "#%% md\n"
    }
   }
  },
  {
   "cell_type": "code",
   "execution_count": 37,
   "outputs": [
    {
     "name": "stdout",
     "output_type": "stream",
     "text": [
      "http://projectsedu.com\n"
     ]
    },
    {
     "name": "stderr",
     "output_type": "stream",
     "text": [
      "C:\\Users\\lwc\\anaconda3\\envs\\py36\\lib\\site-packages\\ipykernel_launcher.py:15: DeprecationWarning: generator 'get_func' raised StopIteration\n",
      "  from ipykernel import kernelapp as app\n"
     ]
    },
    {
     "ename": "StopIteration",
     "evalue": "",
     "output_type": "error",
     "traceback": [
      "\u001B[1;31m---------------------------------------------------------------------------\u001B[0m",
      "\u001B[1;31mStopIteration\u001B[0m                             Traceback (most recent call last)",
      "\u001B[1;32m<ipython-input-37-c1101838a7b1>\u001B[0m in \u001B[0;36m<module>\u001B[1;34m\u001B[0m\n\u001B[0;32m     14\u001B[0m \u001B[0mprint\u001B[0m\u001B[1;33m(\u001B[0m\u001B[0mnext\u001B[0m\u001B[1;33m(\u001B[0m\u001B[0mgen\u001B[0m\u001B[1;33m)\u001B[0m\u001B[1;33m)\u001B[0m\u001B[1;33m\u001B[0m\u001B[1;33m\u001B[0m\u001B[0m\n\u001B[0;32m     15\u001B[0m \u001B[0mgen\u001B[0m\u001B[1;33m.\u001B[0m\u001B[0mclose\u001B[0m\u001B[1;33m(\u001B[0m\u001B[1;33m)\u001B[0m\u001B[1;33m\u001B[0m\u001B[1;33m\u001B[0m\u001B[0m\n\u001B[1;32m---> 16\u001B[1;33m \u001B[0mprint\u001B[0m\u001B[1;33m(\u001B[0m\u001B[0mnext\u001B[0m\u001B[1;33m(\u001B[0m\u001B[0mgen\u001B[0m\u001B[1;33m)\u001B[0m\u001B[1;33m)\u001B[0m\u001B[1;33m\u001B[0m\u001B[1;33m\u001B[0m\u001B[0m\n\u001B[0m",
      "\u001B[1;31mStopIteration\u001B[0m: "
     ]
    }
   ],
   "source": [
    "def get_func():\n",
    "    try:\n",
    "        yield \"http://projectsedu.com\"\n",
    "    #GeneratorExit是继承自BaseExceptibn, 而不是Exception\n",
    "    except GeneratorExit as e:\n",
    "        raise StopIteration\n",
    "        pass\n",
    "    # yield 2\n",
    "    # yield 3\n",
    "    return \"end\"\n",
    "\n",
    "\n",
    "gen = get_func()\n",
    "print(next(gen))\n",
    "gen.close()\n",
    "print(next(gen))"
   ],
   "metadata": {
    "collapsed": false,
    "pycharm": {
     "name": "#%%\n"
    }
   }
  },
  {
   "cell_type": "markdown",
   "source": [
    "#### throw\n",
    "抛出异常，扔出的是前一个yield的异常"
   ],
   "metadata": {
    "collapsed": false
   }
  },
  {
   "cell_type": "code",
   "execution_count": 35,
   "outputs": [
    {
     "name": "stdout",
     "output_type": "stream",
     "text": [
      "http://projectsedu.com\n",
      "2\n",
      "3\n"
     ]
    }
   ],
   "source": [
    "def get_func():\n",
    "    try:\n",
    "        yield \"http://projectsedu.com\"\n",
    "    except Exception as e:\n",
    "        pass\n",
    "    yield 2\n",
    "    yield 3\n",
    "    return \"end\"\n",
    "\n",
    "\n",
    "gen = get_func()\n",
    "print(next(gen))\n",
    "# gen.throw(Exception, \"error\")\n",
    "print(next(gen))\n",
    "print(next(gen))\n"
   ],
   "metadata": {
    "collapsed": false,
    "pycharm": {
     "name": "#%%\n"
    }
   }
  },
  {
   "cell_type": "markdown",
   "source": [
    "#### 4. yield from"
   ],
   "metadata": {
    "collapsed": false
   }
  },
  {
   "cell_type": "code",
   "execution_count": 18,
   "outputs": [
    {
     "name": "stdout",
     "output_type": "stream",
     "text": [
      "d1销量： 100\n",
      "d1销量： 200\n",
      "d1销量： 300\n",
      "d1销量统计完成\n",
      "d2销量： 1233\n",
      "d2销量： 213\n",
      "d2销量： 343\n",
      "d2销量统计完成\n",
      "d3销量： 1123\n",
      "d3销量： 232\n",
      "d3销量： 1231\n",
      "d3销量统计完成\n",
      "{'d1': (600, [100, 200, 300]), 'd2': (1789, [1233, 213, 343]), 'd3': (2586, [1123, 232, 1231])}\n"
     ]
    }
   ],
   "source": [
    "result = {}\n",
    "\n",
    "\n",
    "def value_sum(proname):\n",
    "    total = 0\n",
    "    values = []\n",
    "    while True:\n",
    "        # 接受值\n",
    "        x = yield\n",
    "        if not x:\n",
    "            break\n",
    "        total += x\n",
    "        print(proname + \"销量：\", x)\n",
    "        values.append(x)\n",
    "    return total, values\n",
    "\n",
    "\n",
    "# 委托生成器\n",
    "def delegation(key):\n",
    "    # 委托器\n",
    "    # 建立调用器 main和子生成器之间的双向通道\n",
    "    # 在调用器中使用委托器的 send 方法可以将值传输到子生成器中，子生成器再通过yield获取\n",
    "    # 调用器可以获取的\n",
    "    while True:\n",
    "        result[key] = yield from value_sum(key)\n",
    "        print(key + \"销量统计完成\")\n",
    "\n",
    "\n",
    "# 调用器\n",
    "def main():\n",
    "    data = {\n",
    "        \"d1\": [100, 200, 300],\n",
    "        \"d2\": [1233, 213, 343],\n",
    "        \"d3\": [1123, 232, 1231],\n",
    "    }\n",
    "    for keys, values in data.items():\n",
    "        de = delegation(keys)\n",
    "        de.send(None)\n",
    "        for value in values:\n",
    "            de.send(value)\n",
    "        de.send(None)\n",
    "    print(result)\n",
    "\n",
    "\n",
    "main()"
   ],
   "metadata": {
    "collapsed": false,
    "pycharm": {
     "name": "#%%\n"
    }
   }
  },
  {
   "cell_type": "markdown",
   "source": [
    "### 5. 使用生成器实现协程"
   ],
   "metadata": {
    "collapsed": false,
    "pycharm": {
     "name": "#%% md\n"
    }
   }
  },
  {
   "cell_type": "code",
   "execution_count": 44,
   "outputs": [
    {
     "name": "stdout",
     "output_type": "stream",
     "text": [
      "GEN_CREATED\n",
      "GEN_SUSPENDED\n",
      "GEN_CLOSED\n"
     ]
    }
   ],
   "source": [
    "import inspect\n",
    "\n",
    "\n",
    "def get_func():\n",
    "    value=yield 1\n",
    "    return 'bobby'\n",
    "\n",
    "def downloader\n",
    "\n",
    "gen = get_func()\n",
    "# 获取生成器的状态\n",
    "print(inspect.getgeneratorstate(gen))\n",
    "next(gen)\n",
    "print(inspect.getgeneratorstate(gen))\n",
    "try:\n",
    "    next(gen)\n",
    "except StopIteration as e:\n",
    "   pass\n",
    "print(inspect.getgeneratorstate(gen))"
   ],
   "metadata": {
    "collapsed": false,
    "pycharm": {
     "name": "#%%\n"
    }
   }
  }
 ],
 "metadata": {
  "kernelspec": {
   "display_name": "Python 3",
   "language": "python",
   "name": "python3"
  },
  "language_info": {
   "codemirror_mode": {
    "name": "ipython",
    "version": 3
   },
   "file_extension": ".py",
   "mimetype": "text/x-python",
   "name": "python",
   "nbconvert_exporter": "python",
   "pygments_lexer": "ipython3",
   "version": "3.6.13"
  }
 },
 "nbformat": 4,
 "nbformat_minor": 1
}