{
 "cells": [
  {
   "cell_type": "markdown",
   "metadata": {
    "collapsed": true,
    "pycharm": {
     "name": "#%% md\n"
    }
   },
   "source": [
    "### 1.抽象基类"
   ]
  },
  {
   "cell_type": "code",
   "execution_count": 9,
   "outputs": [
    {
     "data": {
      "text/plain": "True"
     },
     "execution_count": 9,
     "metadata": {},
     "output_type": "execute_result"
    }
   ],
   "source": [
    "from collections.abc import Sized\n",
    "# 抽象基类定义\n",
    "import abc\n",
    "\n",
    "\n",
    "class AbcBase(metaclass=abc.ABCMeta):\n",
    "    @abc.abstractmethod\n",
    "    def get(self, key):\n",
    "        # raise NotImplementedError\n",
    "        pass\n",
    "\n",
    "    @abc.abstractmethod\n",
    "    def set(self, key, value):\n",
    "        # raise NotImplementedError\n",
    "        pass\n",
    "\n",
    "\n",
    "class AbcSon(AbcBase):\n",
    "    def get(self, key):\n",
    "        pass\n",
    "\n",
    "    def set(self, key, value):\n",
    "        pass\n",
    "\n",
    "\n",
    "class SizeSon(object):\n",
    "    def __init__(self, iterable):\n",
    "        self.iterable = iterable\n",
    "\n",
    "    def __getitem__(self, item):\n",
    "        return self.iterable[item]\n",
    "\n",
    "    def __len__(self):\n",
    "        return len(self.iterable)\n",
    "\n",
    "\n",
    "abcson = AbcSon()\n",
    "ss = SizeSon([1, 2, 3])\n",
    "isinstance(ss, Sized)"
   ],
   "metadata": {
    "collapsed": false,
    "pycharm": {
     "name": "#%%\n"
    }
   }
  },
  {
   "cell_type": "markdown",
   "source": [
    "### 2.类变量和实例变量\n",
    "通过self 指定的变量为实例变量"
   ],
   "metadata": {
    "collapsed": false,
    "pycharm": {
     "name": "#%% md\n"
    }
   }
  },
  {
   "cell_type": "code",
   "execution_count": 13,
   "outputs": [
    {
     "name": "stdout",
     "output_type": "stream",
     "text": [
      "1\n",
      "2\n"
     ]
    }
   ],
   "source": [
    "class Test(object):\n",
    "    \"\"\"\n",
    "    y为类变量，x为实例变量\n",
    "    \"\"\"\n",
    "    y = 1\n",
    "\n",
    "    def __init__(self, x):\n",
    "        self.x = x\n",
    "\n",
    "\n",
    "t = Test(2)\n",
    "print(Test.y)\n",
    "print(t.x)"
   ],
   "metadata": {
    "collapsed": false,
    "pycharm": {
     "name": "#%%\n"
    }
   }
  },
  {
   "cell_type": "markdown",
   "source": [
    "### 3.私有属性"
   ],
   "metadata": {
    "collapsed": false,
    "pycharm": {
     "name": "#%% md\n"
    }
   }
  },
  {
   "cell_type": "code",
   "execution_count": 18,
   "outputs": [
    {
     "name": "stdout",
     "output_type": "stream",
     "text": [
      "18\n",
      "['_User__age', '__class__', '__delattr__', '__dict__', '__dir__', '__doc__', '__eq__', '__format__', '__ge__', '__getattribute__', '__gt__', '__hash__', '__init__', '__init_subclass__', '__le__', '__lt__', '__module__', '__ne__', '__new__', '__reduce__', '__reduce_ex__', '__repr__', '__setattr__', '__sizeof__', '__str__', '__subclasshook__', '__weakref__']\n"
     ]
    }
   ],
   "source": [
    "class User(object):\n",
    "    def __init__(self, age):\n",
    "        self.__age = age\n",
    "\n",
    "\n",
    "user = User(18)\n",
    "print(user._User__age)\n",
    "print(dir(user))"
   ],
   "metadata": {
    "collapsed": false,
    "pycharm": {
     "name": "#%%\n"
    }
   }
  },
  {
   "cell_type": "markdown",
   "source": [
    "### 4. 多继承Mixin\n",
    "### 5. 上下文管理器"
   ],
   "metadata": {
    "collapsed": false,
    "pycharm": {
     "name": "#%% md\n"
    }
   }
  },
  {
   "cell_type": "code",
   "execution_count": 22,
   "outputs": [
    {
     "name": "stdout",
     "output_type": "stream",
     "text": [
      "enter\n",
      "do something\n",
      "exit\n",
      "enter\n",
      "test\n",
      "exit\n"
     ]
    }
   ],
   "source": [
    "from contextlib import contextmanager\n",
    "\n",
    "\n",
    "class Test(object):\n",
    "    def __exit__(self, exc_type, exc_val, exc_tb):\n",
    "        print('exit')\n",
    "\n",
    "    def __enter__(self):\n",
    "        print(\"enter\")\n",
    "        return self\n",
    "\n",
    "    def do(self):\n",
    "        print(\"do something\")\n",
    "\n",
    "\n",
    "with Test() as test:\n",
    "    test.do()\n",
    "\n",
    "\n",
    "@contextmanager\n",
    "def test_manager():\n",
    "    print(\"enter\")\n",
    "    yield 1\n",
    "    print(\"exit\")\n",
    "\n",
    "with test_manager() as t:\n",
    "    print(\"test\")"
   ],
   "metadata": {
    "collapsed": false,
    "pycharm": {
     "name": "#%%\n"
    }
   }
  },
  {
   "cell_type": "code",
   "execution_count": 22,
   "outputs": [],
   "source": [],
   "metadata": {
    "collapsed": false,
    "pycharm": {
     "name": "#%%\n"
    }
   }
  },
  {
   "cell_type": "markdown",
   "source": [],
   "metadata": {
    "collapsed": false,
    "pycharm": {
     "name": "#%% md\n"
    }
   }
  }
 ],
 "metadata": {
  "kernelspec": {
   "display_name": "Python 3",
   "language": "python",
   "name": "python3"
  },
  "language_info": {
   "codemirror_mode": {
    "name": "ipython",
    "version": 2
   },
   "file_extension": ".py",
   "mimetype": "text/x-python",
   "name": "python",
   "nbconvert_exporter": "python",
   "pygments_lexer": "ipython2",
   "version": "2.7.6"
  }
 },
 "nbformat": 4,
 "nbformat_minor": 0
}