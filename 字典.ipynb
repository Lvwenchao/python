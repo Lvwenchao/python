{
 "cells": [
  {
   "cell_type": "markdown",
   "source": [
    "1. 访问值\n",
    "如果用字典里没有的键访问数据，会输出错误如下："
   ],
   "metadata": {
    "collapsed": false,
    "pycharm": {
     "name": "#%% md\n"
    }
   }
  },
  {
   "cell_type": "code",
   "execution_count": 1,
   "outputs": [
    {
     "ename": "KeyError",
     "evalue": "'Alice'",
     "output_type": "error",
     "traceback": [
      "\u001B[1;31m---------------------------------------------------------------------------\u001B[0m",
      "\u001B[1;31mKeyError\u001B[0m                                  Traceback (most recent call last)",
      "\u001B[1;32m<ipython-input-1-84c9ec9351c1>\u001B[0m in \u001B[0;36m<module>\u001B[1;34m\u001B[0m\n\u001B[0;32m      1\u001B[0m \u001B[0mtinydict\u001B[0m \u001B[1;33m=\u001B[0m \u001B[1;33m{\u001B[0m\u001B[1;34m'Name'\u001B[0m\u001B[1;33m:\u001B[0m \u001B[1;34m'Runoob'\u001B[0m\u001B[1;33m,\u001B[0m \u001B[1;34m'Age'\u001B[0m\u001B[1;33m:\u001B[0m \u001B[1;36m7\u001B[0m\u001B[1;33m,\u001B[0m \u001B[1;34m'Class'\u001B[0m\u001B[1;33m:\u001B[0m \u001B[1;34m'First'\u001B[0m\u001B[1;33m}\u001B[0m\u001B[1;33m\u001B[0m\u001B[1;33m\u001B[0m\u001B[0m\n\u001B[0;32m      2\u001B[0m \u001B[1;33m\u001B[0m\u001B[0m\n\u001B[1;32m----> 3\u001B[1;33m \u001B[0mprint\u001B[0m\u001B[1;33m(\u001B[0m\u001B[1;34m\"tinydict['Alice']: \"\u001B[0m\u001B[1;33m,\u001B[0m \u001B[0mtinydict\u001B[0m\u001B[1;33m[\u001B[0m\u001B[1;34m'Alice'\u001B[0m\u001B[1;33m]\u001B[0m\u001B[1;33m)\u001B[0m\u001B[1;33m\u001B[0m\u001B[1;33m\u001B[0m\u001B[0m\n\u001B[0m",
      "\u001B[1;31mKeyError\u001B[0m: 'Alice'"
     ]
    }
   ],
   "source": [
    "tinydict = {'Name': 'Runoob', 'Age': 7, 'Class': 'First'}\n",
    "\n",
    "print(\"tinydict['Alice']: \", tinydict['Alice'])"
   ],
   "metadata": {
    "collapsed": false,
    "pycharm": {
     "name": "#%%\n"
    }
   }
  },
  {
   "cell_type": "markdown",
   "source": [
    "2. **dict.get(key[, value])**\n",
    "- key -- 字典中要查找的键。\n",
    "- value -- 可选，如果指定键的值不存在时，返回该默认值。"
   ],
   "metadata": {
    "collapsed": false
   }
  },
  {
   "cell_type": "code",
   "execution_count": null,
   "outputs": [],
   "source": [
    "info = {'name':'班长', 'id':100, 'sex':'f', 'address':'北京'}\n",
    "age = info.get('age')\n",
    "print(age)\n",
    "age=info.get('age',18)\n",
    "print(age)"
   ],
   "metadata": {
    "collapsed": false,
    "pycharm": {
     "name": "#%%\n"
    }
   }
  },
  {
   "cell_type": "markdown",
   "source": [
    "3. **pop(key[,default])**"
   ],
   "metadata": {
    "collapsed": false,
    "pycharm": {
     "name": "#%% md\n"
    }
   }
  },
  {
   "cell_type": "code",
   "execution_count": null,
   "outputs": [],
   "source": [
    "site= {'name': '菜鸟教程', 'alexa': 10000, 'url': 'www.runoob.com'}\n",
    "\n",
    "element = site.pop()\n",
    "\n",
    "print('删除的元素为:')\n",
    "print(element)\n",
    "print('字典为:')\n",
    "print(site)"
   ],
   "metadata": {
    "collapsed": false,
    "pycharm": {
     "name": "#%%\n"
    }
   }
  },
  {
   "cell_type": "markdown",
   "source": [
    "4. **fromkeys()**"
   ],
   "metadata": {
    "collapsed": false,
    "pycharm": {
     "name": "#%% md\n"
    }
   }
  },
  {
   "cell_type": "code",
   "execution_count": 2,
   "outputs": [
    {
     "name": "stdout",
     "output_type": "stream",
     "text": [
      "[1, 2, 3, 4]\n"
     ]
    }
   ],
   "source": [
    "a=[1,2,3,4]\n",
    "b={}\n",
    "c=list(b.fromkeys(a))\n",
    "print(c)"
   ],
   "metadata": {
    "collapsed": false,
    "pycharm": {
     "name": "#%%\n"
    }
   }
  },
  {
   "cell_type": "markdown",
   "source": [
    "5. update()"
   ],
   "metadata": {
    "collapsed": false,
    "pycharm": {
     "name": "#%% md\n"
    }
   }
  }
 ],
 "metadata": {
  "kernelspec": {
   "display_name": "Python 3",
   "language": "python",
   "name": "python3"
  },
  "language_info": {
   "codemirror_mode": {
    "name": "ipython",
    "version": 2
   },
   "file_extension": ".py",
   "mimetype": "text/x-python",
   "name": "python",
   "nbconvert_exporter": "python",
   "pygments_lexer": "ipython2",
   "version": "2.7.6"
  }
 },
 "nbformat": 4,
 "nbformat_minor": 0
}