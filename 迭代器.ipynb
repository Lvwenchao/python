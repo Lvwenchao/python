{
 "cells": [
  {
   "cell_type": "markdown",
   "metadata": {
    "collapsed": true,
    "pycharm": {
     "name": "#%% md\n"
    }
   },
   "source": [
    "### 1. 迭代器和生成器"
   ]
  },
  {
   "cell_type": "code",
   "execution_count": 17,
   "outputs": [
    {
     "name": "stdout",
     "output_type": "stream",
     "text": [
      "10\n",
      "0\n",
      "1\n",
      "2\n",
      "3\n",
      "4\n",
      "5\n",
      "6\n",
      "7\n",
      "8\n",
      "9\n"
     ]
    }
   ],
   "source": [
    "from collections.abc import Iterator, Iterable\n",
    "\n",
    "\n",
    "class NumIterator(Iterator):\n",
    "    def __init__(self, nums):\n",
    "        self.nums = nums\n",
    "        self.index = 0\n",
    "\n",
    "    def __len__(self):\n",
    "        return len(self.nums)\n",
    "\n",
    "    def __next__(self):\n",
    "        \"\"\"\n",
    "        在遍历过程中执行的函数\n",
    "        :return:\n",
    "        \"\"\"\n",
    "        # 终止条件\n",
    "        if self.index == len(self.nums):\n",
    "            raise StopIteration\n",
    "        num = self.nums[self.index]\n",
    "        self.index += 1\n",
    "        return num\n",
    "\n",
    "\n",
    "class NumIterabel(Iterable):\n",
    "    def __init__(self, nums):\n",
    "        self.nums = nums\n",
    "\n",
    "    def __iter__(self) -> Iterator:\n",
    "        \"\"\"\n",
    "        得到一个生成器\n",
    "        :return:\n",
    "        \"\"\"\n",
    "        return NumIterator(nums=self.nums)\n",
    "\n",
    "\n",
    "l = [x for x in range(0, 10)]\n",
    "num_iterator = NumIterator(l)\n",
    "print(len(num_iterator))\n",
    "for i in num_iterator:\n",
    "    print(i)"
   ],
   "metadata": {
    "collapsed": false,
    "pycharm": {
     "name": "#%%\n"
    }
   }
  },
  {
   "cell_type": "markdown",
   "source": [
    "### 2. 使用yield 生成迭代对象"
   ],
   "metadata": {
    "collapsed": false
   }
  },
  {
   "cell_type": "code",
   "execution_count": 19,
   "outputs": [
    {
     "name": "stdout",
     "output_type": "stream",
     "text": [
      "0\n",
      "1\n",
      "2\n",
      "3\n",
      "4\n",
      "5\n",
      "6\n",
      "7\n",
      "8\n",
      "9\n"
     ]
    }
   ],
   "source": [
    "class NumIterabel(Iterable):\n",
    "    def __init__(self, nums):\n",
    "        self.nums = nums\n",
    "\n",
    "    def __iter__(self) -> Iterator:\n",
    "        \"\"\"\n",
    "        得到一个生成器\n",
    "        :return:\n",
    "        \"\"\"\n",
    "        for x in self.nums:\n",
    "            yield x\n",
    "\n",
    "\n",
    "num_iterator = NumIterator(l)\n",
    "for i in num_iterator:\n",
    "    print(i)"
   ],
   "metadata": {
    "collapsed": false,
    "pycharm": {
     "name": "#%%\n"
    }
   }
  },
  {
   "cell_type": "markdown",
   "source": [
    "### 3.反向迭代器"
   ],
   "metadata": {
    "collapsed": false,
    "pycharm": {
     "name": "#%% md\n"
    }
   }
  },
  {
   "cell_type": "code",
   "execution_count": 23,
   "outputs": [
    {
     "name": "stdout",
     "output_type": "stream",
     "text": [
      "10\n",
      "8\n",
      "6\n",
      "4\n",
      "2\n"
     ]
    }
   ],
   "source": [
    "class ReverseIterabel(Iterable):\n",
    "    def __init__(self, start, end, step):\n",
    "        self.start = start\n",
    "        self.end = end\n",
    "        self.step = step\n",
    "\n",
    "    def __iter__(self) -> Iterator:\n",
    "        \"\"\"\n",
    "        得到一个生成器\n",
    "        :return:\n",
    "        \"\"\"\n",
    "        t = self.start\n",
    "        while t < self.end:\n",
    "            yield t\n",
    "            t += self.step\n",
    "\n",
    "    def __reversed__(self):\n",
    "        t = self.end\n",
    "        while t > self.start:\n",
    "            yield t\n",
    "            t -= self.step\n",
    "\n",
    "\n",
    "num_iterator = ReverseIterabel(0, 10, 2)\n",
    "for i in reversed(num_iterator):\n",
    "    print(i)"
   ],
   "metadata": {
    "collapsed": false,
    "pycharm": {
     "name": "#%%\n"
    }
   }
  }
 ],
 "metadata": {
  "kernelspec": {
   "display_name": "Python 3",
   "language": "python",
   "name": "python3"
  },
  "language_info": {
   "codemirror_mode": {
    "name": "ipython",
    "version": 2
   },
   "file_extension": ".py",
   "mimetype": "text/x-python",
   "name": "python",
   "nbconvert_exporter": "python",
   "pygments_lexer": "ipython2",
   "version": "2.7.6"
  }
 },
 "nbformat": 4,
 "nbformat_minor": 0
}