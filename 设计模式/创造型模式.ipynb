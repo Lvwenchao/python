{
 "cells": [
  {
   "cell_type": "markdown",
   "source": [
    "#### 1. 单例模式\n",
    "单例模式是指：保证一个类仅有一个实例，并提供一个访问它的全局访问点。具体到此例中，总线对象，就是一个单例，它仅有一个实例，各个线程对总线的访问只有一个全局访问点，即唯一的实例。"
   ],
   "metadata": {
    "collapsed": false
   }
  },
  {
   "cell_type": "code",
   "execution_count": 16,
   "outputs": [
    {
     "name": "stdout",
     "output_type": "stream",
     "text": [
      "Entity 0 begin to run...\n",
      "Entity 1 begin to run...\n",
      "Entity 2 begin to run...\n"
     ]
    },
    {
     "name": "stderr",
     "output_type": "stream",
     "text": [
      "Exception in thread Entity_0:\n",
      "Traceback (most recent call last):\n",
      "  File \"D:\\Program Files (x86)\\anaconda3\\envs\\py38\\lib\\threading.py\", line 932, in _bootstrap_inner\n",
      "Exception in thread Entity_1:\n",
      "Traceback (most recent call last):\n",
      "  File \"D:\\Program Files (x86)\\anaconda3\\envs\\py38\\lib\\threading.py\", line 932, in _bootstrap_inner\n",
      "Exception in thread Entity_2:\n",
      "Traceback (most recent call last):\n",
      "  File \"D:\\Program Files (x86)\\anaconda3\\envs\\py38\\lib\\threading.py\", line 932, in _bootstrap_inner\n",
      "    self.run()\n",
      "  File \"C:\\Users\\Lv\\AppData\\Local\\Temp\\ipykernel_27184\\1776825162.py\", line 45, in run\n",
      "    self.run()\n",
      "  File \"C:\\Users\\Lv\\AppData\\Local\\Temp\\ipykernel_27184\\1776825162.py\", line 45, in run\n",
      "    self.run()\n",
      "  File \"C:\\Users\\Lv\\AppData\\Local\\Temp\\ipykernel_27184\\1776825162.py\", line 45, in run\n",
      "AttributeError: 'NoneType' object has no attribute 'setData'\n",
      "AttributeError: 'NoneType' object has no attribute 'setData'\n",
      "AttributeError: 'NoneType' object has no attribute 'setData'\n"
     ]
    }
   ],
   "source": [
    "import threading\n",
    "import time\n",
    "\n",
    "\n",
    "# __new__方法实现\n",
    "class Singleton(object):  #抽象单例\n",
    "    def __new__(cls, *args, **kw):\n",
    "        if not hasattr(cls, '_instance'):\n",
    "            orig = super(Singleton, cls)\n",
    "            cls._instance = orig.__new__(cls, *args, **kw)\n",
    "        return cls._instance\n",
    "\n",
    "\n",
    "# 装饰器实现\n",
    "def SingletonDe(cls):\n",
    "    _instance = {}\n",
    "\n",
    "    def _singleton(*args, **kwargs):\n",
    "        if cls not in _instance:\n",
    "            _instance[cls] = cls(*args, **kwargs)\n",
    "        return _instance[cls]\n",
    "\n",
    "    return _singleton()\n",
    "\n",
    "\n",
    "@SingletonDe\n",
    "class A:\n",
    "    a = 1\n",
    "\n",
    "    def __init__(self, x=0):\n",
    "        self.x = x\n",
    "\n",
    "\n",
    "# 类方法实现\n",
    "class Player(object):\n",
    "    # 静态变量\n",
    "    _instanc = None\n",
    "    _flag = False\n",
    "\n",
    "    def __new__(cls, *args, **kwargs):\n",
    "        print('new 执行')\n",
    "\n",
    "        if cls._instanc is None:\n",
    "            cls._instanc = super().__new__(cls)\n",
    "        return cls._instanc\n",
    "\n",
    "    def __init__(self):\n",
    "        if not Player._flag:\n",
    "            print('init')\n",
    "            Player._flag = True\n",
    "\n",
    "# 单例类集成\n",
    "class Bus(Singleton):\n",
    "    # 可重用锁\n",
    "    lock = threading.RLock()\n",
    "\n",
    "    def setData(self, data):\n",
    "        self.lock.acquire()\n",
    "        time.sleep(2)\n",
    "        print(\"Sending Signal Data ... \", data)\n",
    "        self.lock.release()\n",
    "\n",
    "\n",
    "class VisitEntity(threading.Thread):\n",
    "    \"\"\"\n",
    "    线程类\n",
    "    \"\"\"\n",
    "    my_bus = \"\"\n",
    "    name = \"\"\n",
    "\n",
    "    def getName(self) -> str:\n",
    "        return self.name\n",
    "\n",
    "    def setName(self, name: str) -> None:\n",
    "        self.name = name\n",
    "\n",
    "    def run(self) -> None:\n",
    "        self.my_bus = Bus()\n",
    "        self.my_bus.setData(self.name)\n",
    "\n",
    "\n",
    "for i in range(3):\n",
    "    print(\"Entity %d begin to run...\" % i)\n",
    "    my_entity = VisitEntity()\n",
    "    my_entity.setName(\"Entity_\" + str(i))\n",
    "    my_entity.start()\n",
    "    "
   ],
   "metadata": {
    "collapsed": false
   }
  }
 ],
 "metadata": {
  "kernelspec": {
   "display_name": "Python 3",
   "language": "python",
   "name": "python3"
  },
  "language_info": {
   "codemirror_mode": {
    "name": "ipython",
    "version": 2
   },
   "file_extension": ".py",
   "mimetype": "text/x-python",
   "name": "python",
   "nbconvert_exporter": "python",
   "pygments_lexer": "ipython2",
   "version": "2.7.6"
  }
 },
 "nbformat": 4,
 "nbformat_minor": 0
}
