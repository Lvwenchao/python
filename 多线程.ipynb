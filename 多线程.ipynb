{
 "cells": [
  {
   "cell_type": "markdown",
   "metadata": {
    "collapsed": true,
    "pycharm": {
     "name": "#%% md\n"
    }
   },
   "source": [
    "### 1.GIL\n",
    "- 是一个全局解释锁，使得无法将多个线程映射到多个cpu上\n",
    "- gil可以根据字节码函数或者时间片进行释放，交给另一个线程"
   ]
  },
  {
   "cell_type": "code",
   "execution_count": 12,
   "outputs": [
    {
     "name": "stdout",
     "output_type": "stream",
     "text": [
      "2000001\n"
     ]
    }
   ],
   "source": [
    "import time\n",
    "import threading\n",
    "\n",
    "total = 1\n",
    "\n",
    "\n",
    "def add():\n",
    "    global total\n",
    "    for i in range(1000000):\n",
    "        total += 1\n",
    "\n",
    "\n",
    "def dec():\n",
    "    global total\n",
    "    for i in range(1000000):\n",
    "        total += 1\n",
    "\n",
    "\n",
    "t1 = threading.Thread(target=add)\n",
    "t2 = threading.Thread(target=dec)\n",
    "t1.start()\n",
    "t2.start()\n",
    "t1.join()\n",
    "t2.join()\n",
    "# 每次结果都不一样\n",
    "print(total)"
   ],
   "metadata": {
    "collapsed": false,
    "pycharm": {
     "name": "#%%\n"
    }
   }
  },
  {
   "cell_type": "markdown",
   "source": [
    "### 2. Threading\n",
    "- 创建线程（方法和类）\n",
    "- 守护线程"
   ],
   "metadata": {
    "collapsed": false,
    "pycharm": {
     "name": "#%% md\n"
    }
   }
  },
  {
   "cell_type": "code",
   "execution_count": null,
   "outputs": [],
   "source": [
    "def get_html():\n",
    "    print(\"get html start\")\n",
    "    print(\"get html end\")\n",
    "\n",
    "\n",
    "def get_url():\n",
    "    print(\"get url start\")\n",
    "    time.sleep(2)\n",
    "    print(\"get url end\")\n",
    "\n",
    "\n",
    "class GetHtml(threading.Thread):\n",
    "    def __init__(self, name):\n",
    "        super().__init__(name=name)\n",
    "\n",
    "    def run(self) -> None:\n",
    "        print(\"get html start\")\n",
    "        print(\"get html end\")\n",
    "\n",
    "\n",
    "class GetUrl(threading.Thread):\n",
    "    def __init__(self, name):\n",
    "        super().__init__(name=name)\n",
    "\n",
    "    def run(self) -> None:\n",
    "        print(\"get html start\")\n",
    "        time.sleep(2)\n",
    "        print(\"get html end\")\n",
    "\n",
    "\n",
    "star_time = time.time()\n",
    "t1 = threading.Thread(target=get_url)\n",
    "t2 = threading.Thread(target=get_html)\n",
    "t3 = GetUrl(\"get url\")\n",
    "t4 = GetHtml(\"get Html\")\n",
    "t1.start()\n",
    "# 守护线程\n",
    "t1.setDaemon(True)\n",
    "t2.start()\n",
    "t3.start()\n",
    "t4.start()\n",
    "print(\"这里是主线程\\n\")"
   ],
   "metadata": {
    "collapsed": false,
    "pycharm": {
     "name": "#%%\n",
     "is_executing": true
    }
   }
  },
  {
   "cell_type": "markdown",
   "source": [
    "### 3. 线程间通信，共享变量 和 queue\n",
    "- globel\n",
    "- queue.Queue"
   ],
   "metadata": {
    "collapsed": false,
    "pycharm": {
     "name": "#%% md\n"
    }
   }
  },
  {
   "cell_type": "code",
   "execution_count": null,
   "outputs": [],
   "source": [
    "threading.Semaphore"
   ],
   "metadata": {
    "collapsed": false,
    "pycharm": {
     "name": "#%%\n"
    }
   }
  }
 ],
 "metadata": {
  "kernelspec": {
   "display_name": "Python 3",
   "language": "python",
   "name": "python3"
  },
  "language_info": {
   "codemirror_mode": {
    "name": "ipython",
    "version": 2
   },
   "file_extension": ".py",
   "mimetype": "text/x-python",
   "name": "python",
   "nbconvert_exporter": "python",
   "pygments_lexer": "ipython2",
   "version": "2.7.6"
  }
 },
 "nbformat": 4,
 "nbformat_minor": 0
}