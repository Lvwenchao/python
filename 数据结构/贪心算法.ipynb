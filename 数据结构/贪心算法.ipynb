{
 "cells": [
  {
   "cell_type": "markdown",
   "source": [
    "贪心算法：又名贪婪法，是寻找最优解问题的常用方法，这种方法模式一般将求解过程分成若干个步骤，但每个步骤都应用贪心原则，选取当前状态下最好/最优的选择（局部最有利的选择），并以此希望最后堆叠出的结果\n",
    "基本步骤：\n",
    "步骤1：从某个初始解出发；\n",
    "步骤2：采用迭代的过程，当可以向目标前进一步时，就根据局部最优策略，得到一部分解，缩小问题规模；\n",
    "步骤3：将所有解综合起来"
   ],
   "metadata": {
    "collapsed": false,
    "pycharm": {
     "name": "#%% md\n"
    }
   }
  },
  {
   "cell_type": "markdown",
   "source": [
    "#### 1. 找硬币问题\n",
    "假设你开了间小店，不能电子支付，钱柜里的货币只有 25 分、10 分、5 分和 1 分四种硬币，如果你是售货员且要找给客户 41 分钱的硬币，如何安排才能找给客人的钱既正确且硬币的个数又最少？\n",
    "\n",
    "这里需要明确的几个点：\n",
    "1.货币只有 25 分、10 分、5 分和 1 分四种硬币；\n",
    "2.找给客户 41 分钱的硬币；\n",
    "3.硬币最少化\n",
    "\"\"\""
   ],
   "metadata": {
    "collapsed": false
   }
  },
  {
   "cell_type": "code",
   "execution_count": null,
   "outputs": [],
   "source": [
    "\n",
    "money = int(input())\n",
    "num_25 = 0\n",
    "num_10 = 0\n",
    "num_5 = 0\n",
    "num_1 = 0\n",
    "\n",
    "while money >= 1:\n",
    "    while money >= 5:\n",
    "        while money >= 10:\n",
    "            while money >= 25:\n",
    "                money = money - 25\n",
    "                num_25 += 1\n",
    "            money = money - 10\n",
    "            num_10 += 1\n",
    "        money = money - 5\n",
    "        num_5 += 1\n",
    "    money = money - 1\n",
    "    num_1 += 1\n",
    "\n",
    "print(\"25: %d, 10:%d, 5:%d, 1:%d\" % (num_25, num_10, num_5, num_1))"
   ],
   "metadata": {
    "collapsed": false,
    "pycharm": {
     "name": "#%%\n"
    }
   }
  }
 ],
 "metadata": {
  "kernelspec": {
   "display_name": "Python 3",
   "language": "python",
   "name": "python3"
  },
  "language_info": {
   "codemirror_mode": {
    "name": "ipython",
    "version": 2
   },
   "file_extension": ".py",
   "mimetype": "text/x-python",
   "name": "python",
   "nbconvert_exporter": "python",
   "pygments_lexer": "ipython2",
   "version": "2.7.6"
  }
 },
 "nbformat": 4,
 "nbformat_minor": 0
}