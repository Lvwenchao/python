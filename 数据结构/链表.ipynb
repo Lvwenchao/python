{
 "cells": [
  {
   "cell_type": "markdown",
   "metadata": {
    "collapsed": true,
    "pycharm": {
     "name": "#%% md\n"
    }
   },
   "source": [
    "### 1. 使用python 实现链表\n",
    "链表由一系列节点组成，这些节点不必在内存中相连，节省内存。每个节点由数据部分**Data**和链部分**Next**，Next指向下一个节点，这样当添加或者删除时，只需要改变相关节点的Next的指向"
   ]
  },
  {
   "cell_type": "code",
   "execution_count": 32,
   "outputs": [
    {
     "name": "stdout",
     "output_type": "stream",
     "text": [
      "[1, 2, 3, 4, 5]\n",
      "head value: 1\n",
      "2\n",
      "3\n",
      "last node value: 5\n",
      "[1, 2, 3, 4, 5]\n"
     ]
    }
   ],
   "source": [
    "\n",
    "from typing import List\n",
    "\n",
    "\n",
    "class ListNode(object):\n",
    "    def __init__(self, val, _next=None):\n",
    "        self.val = val\n",
    "        self.next = _next\n",
    "\n",
    "\n",
    "class ListLink(object):\n",
    "\n",
    "    def __init__(self, List):\n",
    "        \"\"\"\n",
    "        :param List:\n",
    "        \"\"\"\n",
    "        # 定义头节点\n",
    "        self.__head = ListNode(List[0]) if len(List) > 1 else None\n",
    "        self.list_to_link(List)\n",
    "\n",
    "    def get_head(self) -> ListNode:\n",
    "        \"\"\"\n",
    "        获取头节点\n",
    "        :return: \n",
    "        \"\"\"\n",
    "        return self.__head\n",
    "\n",
    "    def get_node(self, value):\n",
    "        \"\"\"\n",
    "        获取值为value的节点\n",
    "        :param value:\n",
    "        :return:\n",
    "        \"\"\"\n",
    "        cur = self.__head\n",
    "        res = None\n",
    "        # 当cur为None时\n",
    "        while cur:\n",
    "            if cur.val == value:\n",
    "                res = cur\n",
    "                break\n",
    "            else:\n",
    "                cur = cur.next\n",
    "        return res\n",
    "\n",
    "    def get_node_index(self, index):\n",
    "        \"\"\"\n",
    "        获得index处的ListNode，第一个ListNode的index为0\n",
    "        :return:\n",
    "        \"\"\"\n",
    "        p = self.__head\n",
    "        for i in range(index):\n",
    "            p = p.next\n",
    "        return p\n",
    "\n",
    "    def list_to_link(self, List: list):\n",
    "        \"\"\"\n",
    "        将列表转换为链表\n",
    "        :param List:\n",
    "        :return:\n",
    "        \"\"\"\n",
    "        if len(List) == 0:\n",
    "            return None\n",
    "        elif len(List) == 1:\n",
    "            return ListNode(List[0])\n",
    "        else:\n",
    "            head = ListNode(List[0])\n",
    "            p = head\n",
    "            for i in List[1:]:\n",
    "                p.next = ListNode(i)\n",
    "                p = p.next\n",
    "            self.__head = head\n",
    "\n",
    "    def get_last_node(self):\n",
    "        \"\"\"\n",
    "        获取最后一个节点\n",
    "        :return:\n",
    "        \"\"\"\n",
    "        cur = self.__head\n",
    "        re = None\n",
    "        while cur:\n",
    "            if cur.next:\n",
    "                cur = cur.next\n",
    "            else:\n",
    "                re = cur\n",
    "                break\n",
    "        return re\n",
    "\n",
    "    @staticmethod\n",
    "    def link_to_list(head: ListNode) -> List:\n",
    "        l = []\n",
    "        while head:\n",
    "            l.append(head.val)\n",
    "            head = head.next\n",
    "        return l\n",
    "\n",
    "\n",
    "List = [1, 2, 3, 4, 5]\n",
    "print(List)\n",
    "list_link = ListLink(List)\n",
    "# 头节点\n",
    "head = list_link.get_head()\n",
    "print(\"head value:\", head.val)\n",
    "# 指定值的节点\n",
    "node = list_link.get_node(2)\n",
    "print(node.val)\n",
    "# 根据索引求解点\n",
    "node = list_link.get_node_index(2)\n",
    "print(node.val)\n",
    "# 尾节点\n",
    "node = list_link.get_last_node()\n",
    "print(\"last node value:\", node.val)\n",
    "print(list_link.link_to_list(head))"
   ],
   "metadata": {
    "collapsed": false,
    "pycharm": {
     "name": "#%%\n"
    }
   }
  },
  {
   "cell_type": "markdown",
   "source": [
    "#### 2. 翻转链表\n",
    "给定一个单链表的头结点pHead(该头节点是有值的，比如在下图，它的val是1，长度为n，反转该链表后，返回新链表的表头。\n",
    "![image](https://uploadfiles.nowcoder.com/images/20211014/423483716_1634206291971/4A47A0DB6E60853DEDFCFDF08A5CA249)\\\n",
    "```\n",
    "输入：\n",
    "{1,2,3}\n",
    "返回值：\n",
    "{3,2,1}\n",
    "```"
   ],
   "metadata": {
    "collapsed": false
   }
  },
  {
   "cell_type": "code",
   "execution_count": 66,
   "outputs": [
    {
     "name": "stdout",
     "output_type": "stream",
     "text": [
      "[3, 2, 1]\n"
     ]
    }
   ],
   "source": [
    "def ReverseList(head: ListNode) -> ListNode:\n",
    "    # write code here\n",
    "    if head is None or head.next is None:\n",
    "        return head\n",
    "    pre = None\n",
    "    cur = head\n",
    "    while cur:\n",
    "        # 暂存after节点\n",
    "        t = cur.next\n",
    "        # 令当前节点指向前节点\n",
    "        cur.next = pre\n",
    "        # 前节点变为当前节点\n",
    "        pre = cur\n",
    "        # 当前节点为下一节点\n",
    "        cur = t\n",
    "    return pre\n",
    "\n",
    "\n",
    "link = ListLink([1, 2, 3])\n",
    "re = ReverseList(link.get_head())\n",
    "print(ListLink.link_to_list(head=re))"
   ],
   "metadata": {
    "collapsed": false,
    "pycharm": {
     "name": "#%%\n"
    }
   }
  },
  {
   "cell_type": "markdown",
   "source": [
    "#### 3. 链表内指定区间反转\n",
    "将一个节点数为 size 链表 m 位置到 n 位置之间的区间反转，要求时间复杂度 O(n)O(n)，空间复杂度 O(1)O(1)。\n",
    "例如：\n",
    "给出的链表为 $1\\to 2 \\to 3 \\to 4 \\to 5 \\to NULL, m=2,n=4$\n",
    "返回 $1\\to 4\\to 3\\to 2\\to 5\\to NULL$.\n",
    "```\n",
    "输入：\n",
    "{1,2,3,4,5},2,4\n",
    "返回值：\n",
    "{1,4,3,2,5}\n",
    "```"
   ],
   "metadata": {
    "collapsed": false,
    "pycharm": {
     "name": "#%% md\n"
    }
   }
  },
  {
   "cell_type": "code",
   "execution_count": 34,
   "outputs": [
    {
     "name": "stdout",
     "output_type": "stream",
     "text": [
      "[1, 4, 3, 2, 5]\n"
     ]
    }
   ],
   "source": [
    "def reverseBetween(head: ListNode, m: int, n: int) -> ListNode:\n",
    "    # write code here\n",
    "    if head is None or head.next is None or m == n:\n",
    "        return head\n",
    "    else:\n",
    "        # m处的前一个节点pre,用于指向n出的指针\n",
    "        # m处的节点start，用于指向n+1节点\n",
    "        # tail 用于找到尾部节点\n",
    "        # start和pre不用变，只需要变尾部节点\n",
    "        # 避免为0\n",
    "        dummy = ListNode(0)\n",
    "        dummy.next = head\n",
    "        pre = dummy\n",
    "        start = head\n",
    "        # 找到m处节点和前一节点\n",
    "        for i in range(m - 1):\n",
    "            pre = start\n",
    "            start = start.next\n",
    "        for i in range(n - m):\n",
    "            # 暂存尾部指针\n",
    "            temp = start.next\n",
    "            # m节点指向i+1处节点\n",
    "            start.next = temp.next\n",
    "            # 尾部节点指向上一节点\n",
    "            temp.next = pre.next\n",
    "            # pre 指向尾部节点\n",
    "            pre.next = temp\n",
    "        # 去掉尾部节点\n",
    "        return dummy.next\n",
    "\n",
    "\n",
    "link = ListLink([1, 2, 3, 4, 5])\n",
    "res = reverseBetween(link.get_head(), 2, 4)\n",
    "print(ListLink.link_to_list(res))"
   ],
   "metadata": {
    "collapsed": false,
    "pycharm": {
     "name": "#%%\n"
    }
   }
  },
  {
   "cell_type": "markdown",
   "source": [
    "#### 4. 链表中的节点每k个一组翻转\n",
    "将给出的链表中的节点每 k 个一组翻转，返回翻转后的链表\n",
    "如果链表中的节点数不是 k 的倍数，将最后剩下的节点保持原样\n",
    "你不能更改节点中的值，只能更改节点本身。\n",
    "\n",
    "数据范围： $\\ 0 \\le n \\le 2000, 1 \\le k \\le 2000$ ，链表中每个元素都满足 $0 \\le val \\le 1000$\n",
    "要求空间复杂度 O(1) ，时间复杂度 O(n)\n",
    "例如：\n",
    "给定的链表是 $1\\to2\\to3\\to4\\to5$\n",
    "对于 k = 2  , 你应该返回 $2\\to 1\\to 4\\to 3\\to 5$\n",
    "对于 k = 3  , 你应该返回 $3\\to2 \\to1 \\to 4\\to 5$\n",
    "```\n",
    "输入：\n",
    "{1,2,3,4,5},2\n",
    "\n",
    "返回值：\n",
    "{2,1,4,3,5}\n",
    "```"
   ],
   "metadata": {
    "collapsed": false,
    "pycharm": {
     "name": "#%% md\n"
    }
   }
  },
  {
   "cell_type": "code",
   "execution_count": 35,
   "outputs": [
    {
     "name": "stdout",
     "output_type": "stream",
     "text": [
      "[3, 2, 1, 4, 5]\n"
     ]
    }
   ],
   "source": [
    "def reverseKGroup(head: ListNode, k: int) -> ListNode:\n",
    "    # write code here\n",
    "    if head is None or head.next is None or k < 2:\n",
    "        return head\n",
    "    dumppy = ListNode(0)\n",
    "    dumppy.next = head\n",
    "    pre = dumppy\n",
    "    start = head\n",
    "    # 获取列表长度\n",
    "    length = 0\n",
    "    while head is not None:\n",
    "        length += 1\n",
    "        head = head.next\n",
    "    for i in range(0, length // k):\n",
    "        # 每k次进行翻转\n",
    "        for j in range(1, k):\n",
    "            # 暂存尾部指针\n",
    "            temp = start.next\n",
    "            # m节点指向i+1处节点\n",
    "            start.next = temp.next\n",
    "            # 尾部节点指向上一节点\n",
    "            temp.next = pre.next\n",
    "            # pre 指向尾部节点\n",
    "            pre.next = temp\n",
    "        # 与3不同的地方在于需要修改初始节点和当前节点位置\n",
    "        pre = start\n",
    "        start = start.next\n",
    "    return dumppy.next\n",
    "\n",
    "\n",
    "link = ListLink([1, 2, 3, 4, 5])\n",
    "res = reverseKGroup(link.get_head(), 3)\n",
    "print(ListLink.link_to_list(res))"
   ],
   "metadata": {
    "collapsed": false,
    "pycharm": {
     "name": "#%%\n"
    }
   }
  },
  {
   "cell_type": "markdown",
   "source": [
    "#### 5.合并两个排序的链表\n",
    "输入入两个递增的链表，单个链表的长度为n，合并这两个链表并使新链表中的节点仍然是递增排序的。\n",
    "数据范围：10000≤n≤1000，−1000≤节点值≤1000\n",
    "要求：空间复杂度 O(1)，时间复杂度 O(n)\n",
    "如输入{1,3,5},{2,4,6}时，合并后的链表为{1,2,3,4,5,6}，所以对应的输出为{1,2,3,4,5,6}，转换过程如下图所示："
   ],
   "metadata": {
    "collapsed": false,
    "pycharm": {
     "name": "#%% md\n"
    }
   }
  },
  {
   "cell_type": "code",
   "execution_count": 36,
   "outputs": [
    {
     "data": {
      "text/plain": "[1, 2, 3, 4, 5, 6]"
     },
     "execution_count": 36,
     "metadata": {},
     "output_type": "execute_result"
    }
   ],
   "source": [
    "def Merge(pHead1: ListNode, pHead2: ListNode) -> ListNode:\n",
    "    # write code here\n",
    "    if pHead1 is None:\n",
    "        return pHead2\n",
    "    if pHead2 is None:\n",
    "        return pHead1\n",
    "    # 记录下第一个节点\n",
    "    if pHead1.val <= pHead2.val:\n",
    "        head = pHead1\n",
    "        pHead1.next = Merge(pHead1.next, pHead2)\n",
    "    else:\n",
    "        head = pHead2\n",
    "        pHead2.next = Merge(pHead1, pHead2.next)\n",
    "    return head\n",
    "\n",
    "\n",
    "head1 = ListLink([1, 3, 5]).get_head()\n",
    "head2 = ListLink([2, 4, 6]).get_head()\n",
    "res = Merge(head1, head2)\n",
    "ListLink.link_to_list(res)"
   ],
   "metadata": {
    "collapsed": false,
    "pycharm": {
     "name": "#%%\n"
    }
   }
  },
  {
   "cell_type": "markdown",
   "source": [
    "#### 6. 合并K个已排序的列表\n",
    "合并 k 个*升序的链表*并将结果作为一个升序的链表返回其头节点。\n",
    "```\n",
    "输入：\n",
    "[{1,2,3},{4,5,6,7}]\n",
    "返回值：\n",
    "{1,2,3,4,5,6,7}\n",
    "```"
   ],
   "metadata": {
    "collapsed": false,
    "pycharm": {
     "name": "#%% md\n"
    }
   }
  },
  {
   "cell_type": "code",
   "execution_count": 37,
   "outputs": [
    {
     "name": "stdout",
     "output_type": "stream",
     "text": [
      "[1, 2, 3, 4, 5, 6, 7]\n",
      "[1, 2, 3, 4, 5, 6, 7]\n"
     ]
    }
   ],
   "source": [
    "from queue import PriorityQueue\n",
    "from typing import List\n",
    "\n",
    "\n",
    "def mergeKLists1(lists: List[ListNode]) -> ListNode:\n",
    "    \"\"\"\n",
    "    暴力破解\n",
    "    :param lists:\n",
    "    :return:\n",
    "    \"\"\"\n",
    "    # write code here\n",
    "    nodes = []\n",
    "    head = ListNode(0)\n",
    "    point = head\n",
    "    for l in lists:\n",
    "        while l:\n",
    "            nodes.append(l.val)\n",
    "            l = l.next\n",
    "\n",
    "    for i in sorted(nodes):\n",
    "        point.next = ListNode(i)\n",
    "        point = point.next\n",
    "    return head.next\n",
    "\n",
    "\n",
    "def mergeKLists2(lists: List[ListNode]) -> ListNode:\n",
    "    \"\"\"\n",
    "    逐一比较\n",
    "    比较每个链表的首节点，获得最小值的节点\n",
    "    将大的节点放在原先地列表后面\n",
    "    :param lists:\n",
    "    :return:\n",
    "    \"\"\"\n",
    "    head = ListNode(0)\n",
    "    cur = head\n",
    "    # 优先队列\n",
    "    p = PriorityQueue()\n",
    "    for l in lists:\n",
    "        p.put([l.val, l])\n",
    "\n",
    "    while not p.empty():\n",
    "        # 取出值最小的元素\n",
    "        val, node = p.get()\n",
    "        cur.next = ListNode(val)\n",
    "        cur = cur.next\n",
    "        node = node.next\n",
    "        if node:\n",
    "            p.put([node.val, node])\n",
    "    return head.next\n",
    "\n",
    "\n",
    "head1 = ListLink([1, 2, 3]).get_head()\n",
    "head2 = ListLink([4, 5, 6, 7]).get_head()\n",
    "res1 = mergeKLists1([head1, head2])\n",
    "print(ListLink.link_to_list(res1))\n",
    "res2 = mergeKLists2([head1, head2])\n",
    "print(ListLink.link_to_list(res2))\n"
   ],
   "metadata": {
    "collapsed": false,
    "pycharm": {
     "name": "#%%\n"
    }
   }
  },
  {
   "cell_type": "markdown",
   "source": [
    "### 7. 判断链表是否有环\n",
    "输入分为两部分，第一部分为链表，第二部分代表是否有环，然后将组成的head头结点传入到函数里面。-1则代表无环，其它的数字代表有环，这些参数解释仅仅是为了方便读者自测调试。实际在编程时读入的是链表的头节点。\n",
    "例如输入{3,2,0,-4},1时，对应的链表结构如下图所示：\n",
    "![image](https://uploadfiles.nowcoder.com/images/20220110/423483716_1641800950920/0710DD5D9C4D4B11A8FA0C06189F9E9C)\n",
    "```\n",
    "输入：\n",
    "{3,2,0,-4},1\n",
    "返回值：\n",
    "true\n",
    "```\n",
    "解题思路：\n",
    "快慢指针，两个指针一个跑得块，一个跑的慢，如果有环，快的指针肯定能赶上慢的指针\n",
    "终止条件：快指针为空或者快指针指向慢支针"
   ],
   "metadata": {
    "collapsed": false,
    "pycharm": {
     "name": "#%% md\n"
    }
   }
  },
  {
   "cell_type": "code",
   "execution_count": 38,
   "outputs": [
    {
     "data": {
      "text/plain": "True"
     },
     "execution_count": 38,
     "metadata": {},
     "output_type": "execute_result"
    }
   ],
   "source": [
    "def hasCycle(head: ListNode) -> bool:\n",
    "    if head is None or head.next is None:\n",
    "        return False\n",
    "    slow = head\n",
    "    fast = head\n",
    "    is_circle = False\n",
    "    while fast and fast.next:\n",
    "        slow = slow.next\n",
    "        fast = fast.next.next\n",
    "        if fast == slow:\n",
    "            is_circle = True\n",
    "            break\n",
    "\n",
    "    return is_circle\n",
    "\n",
    "\n",
    "link = ListLink([3, 2, 0, -4])\n",
    "last_node = link.get_last_node()\n",
    "mid_node = link.get_node_index(1)\n",
    "last_node.next = mid_node\n",
    "hasCycle(link.get_head())"
   ],
   "metadata": {
    "collapsed": false,
    "pycharm": {
     "name": "#%%\n"
    }
   }
  },
  {
   "cell_type": "markdown",
   "source": [
    "#### 8.链表中环的入口结点\n",
    "给一个长度为n链表，若其中包含环，请找出该链表的环的入口结点，否则，返回null。\n",
    "![image](https://uploadfiles.nowcoder.com/images/20211025/423483716_1635154005498/DA92C945EF643F1143567935F20D6B46)\n",
    "可以看到环的入口结点的结点值为3，所以返回结点值为3的结点。\n",
    "```\n",
    "输入：\n",
    "{1,2},{3,4,5}\n",
    "返回值：\n",
    "3\n",
    "说明：\n",
    "返回环形链表入口结点，我们后台程序会打印该环形链表入口结点对应的结点值，即3\n",
    "```\n",
    "结题思路：\n",
    "假设\n",
    "链表头到环入口长度为——a，\n",
    "环入口到相遇点长度为——b，\n",
    "相遇点到环入口长度为——c，如图所示：\n",
    "![image](https://pic2.zhimg.com/80/v2-b84529f51caeee25919abf9a08237575_720w.jpg)\n",
    "$快指针路程=a+(b+c)k+b,k>=1$，其中$b+c$为环的长度，$k$为环的圈数（k>=1，即最少一圈，不能是0圈，不然快慢指针走的路程一样，矛盾）。\n",
    "$慢指针路程=a+b$。因为快指针的路程是慢指针的路程的两倍，所以：$(a+b)\\times2=a+(b+c)k+b$。\n",
    "化简得：\n",
    "$a=(k-1)(b+c)+c$，这个式子的意思是：$链表头到环入口的距离=相遇点到环入口的距离+(k-1)圈数环长度$。其中$k>=1$，所以$k-1>=0$圈。所以两个指针分别从链表头和相遇点出发，最后一定相遇于环入口。"
   ],
   "metadata": {
    "collapsed": false
   }
  },
  {
   "cell_type": "code",
   "execution_count": 39,
   "outputs": [
    {
     "name": "stdout",
     "output_type": "stream",
     "text": [
      "2\n"
     ]
    }
   ],
   "source": [
    "def EntryNodeOfLoop(pHead: ListNode) -> ListNode:\n",
    "    if pHead is None or pHead.next is None:\n",
    "        return None\n",
    "    else:\n",
    "        slow = pHead\n",
    "        fast = pHead\n",
    "        while fast.next and fast.next.next:\n",
    "            slow = slow.next\n",
    "            fast = fast.next.next\n",
    "            if fast == slow:\n",
    "                meeting = fast\n",
    "                slow = pHead\n",
    "\n",
    "                while slow != meeting:\n",
    "                    slow = slow.next\n",
    "                    meeting = meeting.next\n",
    "                return meeting\n",
    "        return None\n",
    "\n",
    "\n",
    "link = ListLink([1, 2, 3, 4, 5])\n",
    "link.get_node(5).next = link.get_node(2)\n",
    "print(EntryNodeOfLoop(link.get_head()).val)"
   ],
   "metadata": {
    "collapsed": false,
    "pycharm": {
     "name": "#%%\n"
    }
   }
  },
  {
   "cell_type": "markdown",
   "source": [
    "#### 9. 链表中倒数最后k个结点\n",
    "输入一个长度为 n 的链表，设链表中的元素的值为 ai ，返回该链表中倒数第k个节点。\n",
    "如果该链表长度小于k，请返回一个长度为 0 的链表。\n",
    "例如输入{1,2,3,4,5},2时，对应的链表结构如下图所示：\n",
    "![image](https://uploadfiles.nowcoder.com/images/20211105/423483716_1636084313645/5407F55227804F31F5C5D73558596F2C)\n",
    "其中蓝色部分为该链表的最后2个结点，所以返回倒数第2个结点（也即结点值为4的结点）即可，系统会打印后面所有的节点来比较。\n",
    "```\n",
    "输入：\n",
    "{1,2,3,4,5},2\n",
    "\n",
    "返回值：\n",
    "{4,5}\n",
    "\n",
    "说明：\n",
    "返回倒数第2个节点4，系统会打印后面所有的节点来比较。\n",
    "```"
   ],
   "metadata": {
    "collapsed": false
   }
  },
  {
   "cell_type": "code",
   "execution_count": 40,
   "outputs": [
    {
     "name": "stdout",
     "output_type": "stream",
     "text": [
      "[4, 5]\n"
     ]
    }
   ],
   "source": [
    "def FindKthToTail(pHead: ListNode, k: int) -> ListNode:\n",
    "    # write code here\n",
    "    if pHead is None:\n",
    "        return pHead\n",
    "    node = []\n",
    "    while pHead:\n",
    "        node.append(pHead)\n",
    "        pHead = pHead.next\n",
    "    if k > len(node) or k <= 0:\n",
    "        return None\n",
    "    return node[-k]\n",
    "\n",
    "\n",
    "head = ListLink([1, 2, 3, 4, 5]).get_head()\n",
    "print(ListLink.link_to_list(FindKthToTail(head, 2)))"
   ],
   "metadata": {
    "collapsed": false,
    "pycharm": {
     "name": "#%%\n"
    }
   }
  },
  {
   "cell_type": "markdown",
   "source": [
    "#### 10. 删除链表的倒数第n个节点\n",
    "给出的链表为: $1\\to 2\\to 3\\to 4\\to 5, n= 2$.\n",
    "删除了链表的倒数第$n$个节点之后,链表变为$1\\to 2\\to 3\\to 5$.\n",
    "```\n",
    "输入：\n",
    "{1,2},2\n",
    "返回值：\n",
    "{2}\n",
    "```\n",
    "解决思路，使用双指针法，第一个指针先移动 n 次，第二个指针开始移动，当第一个指针的next为None的时候，第二个指针为倒数n-1个指针"
   ],
   "metadata": {
    "collapsed": false,
    "pycharm": {
     "name": "#%% md\n"
    }
   }
  },
  {
   "cell_type": "code",
   "execution_count": 41,
   "outputs": [
    {
     "name": "stdout",
     "output_type": "stream",
     "text": [
      "[2]\n"
     ]
    }
   ],
   "source": [
    "def removeNthFromEnd(head: ListNode, n: int) -> ListNode:\n",
    "    if head is None or n <= 0:\n",
    "        return None\n",
    "    # 避免删除第一个指针\n",
    "    fast = head\n",
    "    slow = head\n",
    "    length = 0\n",
    "    for i in range(n):\n",
    "        if slow is not None:\n",
    "            slow = slow.next\n",
    "            length += 1\n",
    "        else:\n",
    "            break\n",
    "    if length > n:\n",
    "        return None\n",
    "    if slow is None:\n",
    "        head = head.next\n",
    "    else:\n",
    "        while slow.next:\n",
    "            fast = fast.next\n",
    "            slow = slow.next\n",
    "        fast.next = fast.next.next\n",
    "    return head\n",
    "\n",
    "\n",
    "head = ListLink([1, 2]).get_head()\n",
    "re = removeNthFromEnd(head, 2)\n",
    "print(ListLink.link_to_list(re))"
   ],
   "metadata": {
    "collapsed": false,
    "pycharm": {
     "name": "#%%\n"
    }
   }
  },
  {
   "cell_type": "markdown",
   "source": [
    "#### 11. 两个链表的第一个公共结点\n",
    "输入两个无环的单向链表，找出它们的第一个公共结点，如果没有公共节点则返回空。（注意因为传入数据是链表，所以错误测试数据的提示是用其他方式显示的，保证传入数据是正确的）\n",
    "例如，输入{1,2,3},{4,5},{6,7}时，两个无环的单向链表的结构如下图所示：\n",
    "![image](https://uploadfiles.nowcoder.com/images/20211104/423483716_1635999204882/394BB7AFD5CEA3DC64D610F62E6647A6)\n",
    "可以看到它们的第一个公共结点的结点值为6，所以返回结点值为6的结点。\n",
    "```\n",
    "输入：\n",
    "{1,2,3},{4,5},{6,7}\n",
    "\n",
    "返回值：\n",
    "{6,7}\n",
    "\n",
    "说明：\n",
    "第一个参数{1,2,3}代表是第一个链表非公共部分，第二个参数{4,5}代表是第二个链表非公共部分，最后的{6,7}表示的是2个链表的公共部分\n",
    "这3个参数最后在后台会组装成为2个两个无环的单链表，且是有公共节点的\n",
    "```\n",
    "解决思路：长的先走"
   ],
   "metadata": {
    "collapsed": false,
    "pycharm": {
     "name": "#%% md\n"
    }
   }
  },
  {
   "cell_type": "code",
   "execution_count": 42,
   "outputs": [
    {
     "name": "stdout",
     "output_type": "stream",
     "text": [
      "[6, 7]\n"
     ]
    }
   ],
   "source": [
    "def FindFirstCommonNode(pHead1, pHead2):\n",
    "    if pHead1 is None or pHead2 is None:\n",
    "        return None\n",
    "    length1 = 0\n",
    "    length2 = 0\n",
    "    p1 = pHead1\n",
    "    p2 = pHead2\n",
    "    while p1:\n",
    "        p1 = p1.next\n",
    "        length1 += 1\n",
    "    while p2:\n",
    "        p2 = p2.next\n",
    "        length2 += 1\n",
    "    if length1 > length2:\n",
    "        for i in range(length1 - length2):\n",
    "            pHead1 = pHead1.next\n",
    "    if length2 > length1:\n",
    "        for i in range(length2 - length1):\n",
    "            pHead2 = pHead2.next\n",
    "    while pHead2 or pHead1:\n",
    "        if pHead1.val == pHead2.val:\n",
    "            break\n",
    "        pHead1 = pHead1.next\n",
    "        pHead2 = pHead2.next\n",
    "    return pHead1\n",
    "\n",
    "\n",
    "link1 = ListLink([1, 2, 3])\n",
    "link2 = ListLink([4, 5])\n",
    "link3 = ListLink([6, 7])\n",
    "link1.get_last_node().next = link3.get_head()\n",
    "link2.get_last_node().next = link3.get_head()\n",
    "re = FindFirstCommonNode(link1.get_head(), link2.get_head())\n",
    "print(ListLink.link_to_list(re))"
   ],
   "metadata": {
    "collapsed": false,
    "pycharm": {
     "name": "#%%\n"
    }
   }
  },
  {
   "cell_type": "markdown",
   "source": [
    "#### 12. 链表相加假设链表中每一个节点的值都在 0 - 9 之间，那么链表整体就可以代表一个整数。\n",
    "给定两个这种链表，请生成代表两个整数相加值的结果链表。\n",
    "数据范围：$0 \\le n,m \\le 1000000$，链表任意值 $0 \\le val \\le 9$\n",
    "要求：空间复杂度 $O(n)$，时间复杂度 $O(n)$\n",
    "![image](https://uploadfiles.nowcoder.com/images/20211105/423483716_1636084743981/C2DB572B01B0FDC03C097BE7ABA45114)\n",
    "```\n",
    "输入：\n",
    "[9,3,7],[6,3]\n",
    "\n",
    "返回值：\n",
    "{1,0,0,0}\n",
    "\n",
    "说明：\n",
    "如题面解释\n",
    "```"
   ],
   "metadata": {
    "collapsed": false,
    "pycharm": {
     "name": "#%% md\n"
    }
   }
  },
  {
   "cell_type": "code",
   "execution_count": 43,
   "outputs": [
    {
     "name": "stdout",
     "output_type": "stream",
     "text": [
      "[1, 0, 0, 0]\n"
     ]
    }
   ],
   "source": [
    "def addInList(head1: ListNode, head2: ListNode) -> ListNode:\n",
    "    if head1 is None:\n",
    "        return head2\n",
    "    if head2 is None:\n",
    "        return head1\n",
    "\n",
    "    node = ListNode(0)\n",
    "    p = node\n",
    "    head1_re = ReverseList(head1)\n",
    "    head2_re = ReverseList(head2)\n",
    "    # 残差\n",
    "    res = 0\n",
    "    while head1_re or head2_re:\n",
    "        # 不足补0\n",
    "        if head1_re is None: head1_re = ListNode(0)\n",
    "        if head2_re is None: head2_re = ListNode(0)\n",
    "        sum_val = head1_re.val + head2_re.val + res\n",
    "        p.next = ListNode(sum_val % 10)\n",
    "        res = sum_val // 10\n",
    "        p = p.next\n",
    "        head1_re = head1_re.next\n",
    "        head2_re = head2_re.next\n",
    "    if res == 1:\n",
    "        p.next = ListNode(res)\n",
    "    node = node.next\n",
    "    return ReverseList(node)\n",
    "\n",
    "\n",
    "head1 = ListLink([9, 3, 7]).get_head()\n",
    "head2 = ListLink([6, 3]).get_head()\n",
    "re = addInList(head1, head2)\n",
    "print(ListLink.link_to_list(re))"
   ],
   "metadata": {
    "collapsed": false,
    "pycharm": {
     "name": "#%%\n"
    }
   }
  },
  {
   "cell_type": "markdown",
   "source": [
    "#### 13. 单链表的排序\n",
    "给定一个节点数为n的无序单链表，对其按升序排序。\n",
    "```\n",
    "输入：\n",
    "{1,3,2,4,5}\n",
    "\n",
    "返回值：\n",
    "{1,2,3,4,5}\n",
    "```"
   ],
   "metadata": {
    "collapsed": false
   }
  },
  {
   "cell_type": "code",
   "source": [
    "def sortInList(head: ListNode) -> ListNode:\n",
    "    # write code here\n",
    "    dummpy = ListNode(0)\n",
    "    p = dummpy\n",
    "    if head is None or head.next is None:\n",
    "        return head\n",
    "    nodes = PriorityQueue()\n",
    "    while head:\n",
    "        nodes.put(head.val)\n",
    "        head = head.next\n",
    "    while not nodes.empty():\n",
    "        val = nodes.get()\n",
    "        p.next = ListNode(val)\n",
    "        p = p.next\n",
    "    return dummpy.next\n",
    "\n",
    "\n",
    "head = ListLink(\n",
    "    [-426572, -406609, 724427, -157789, -132713, 720732, -39078, -348926, -693458, 559374, 114739, -748249, 428207,\n",
    "     -767407, 401563, 646432, -682870, 483610, -608888, 94840, 749542, 359115, 131739, 935294, 347325, 80573, -869091,\n",
    "     -757897, -860166, -227942, -484068, -170790, -362441, -860466, 819197, 817675, 886101, 463504, -100482, 496406,\n",
    "     -860791]).get_head()\n",
    "res = sortInList(head)\n",
    "print(ListLink.link_to_list(res))"
   ],
   "metadata": {
    "collapsed": false,
    "pycharm": {
     "name": "#%%\n"
    }
   },
   "execution_count": 56,
   "outputs": [
    {
     "name": "stdout",
     "output_type": "stream",
     "text": [
      "[-869091, -860791, -860466, -860166, -767407, -757897, -748249, -693458, -682870, -608888, -484068, -426572, -406609, -362441, -348926, -227942, -170790, -157789, -132713, -100482, -39078, 80573, 94840, 114739, 131739, 347325, 359115, 401563, 428207, 463504, 483610, 496406, 559374, 646432, 720732, 724427, 749542, 817675, 819197, 886101, 935294]\n"
     ]
    }
   ]
  },
  {
   "cell_type": "markdown",
   "source": [
    "#### 14 判断一个链表是否为回文结构\n",
    "给定一个链表，请判断该链表是否为回文结构。回文是指该字符串正序逆序完全一致。\n",
    "```\n",
    "输入：\n",
    "{1}\n",
    "返回值：\n",
    "true\n",
    "```"
   ],
   "metadata": {
    "collapsed": false,
    "pycharm": {
     "name": "#%% md\n"
    }
   }
  },
  {
   "cell_type": "code",
   "execution_count": 76,
   "outputs": [
    {
     "name": "stdout",
     "output_type": "stream",
     "text": [
      "True\n"
     ]
    }
   ],
   "source": [
    "def isPail(head: ListNode) -> bool:\n",
    "    if head is None:\n",
    "        return False\n",
    "    elif head.next is None:\n",
    "        return True\n",
    "    else:\n",
    "        val = []\n",
    "        while head:\n",
    "            val.append(head.val)\n",
    "            head = head.next\n",
    "        return val == list(reversed(val.copy()))\n",
    "\n",
    "\n",
    "head = ListLink([1, 2, 3, 2, 1]).get_head()\n",
    "print(isPail(head))"
   ],
   "metadata": {
    "collapsed": false,
    "pycharm": {
     "name": "#%%\n"
    }
   }
  },
  {
   "cell_type": "markdown",
   "source": [
    "#### 15. 链表的奇偶重排\n",
    "给定一个单链表，请设定一个函数，将链表的奇数位节点和偶数位节点分别放在一起，重排后输出。\n",
    "注意是节点的编号而非节点的数值。\n",
    "```\n",
    "输入：\n",
    "{1,2,3,4,5,6}\n",
    "\n",
    "返回值：\n",
    "{1,3,5,2,4,6}\n",
    "\n",
    "说明：\n",
    "1->2->3->4->5->6->NULL\n",
    "重排后为\n",
    "1->3->5->2->4->6->NULL\n",
    "```\n",
    "**解题思路：** 双指针，奇数节点指向偶数节点的下一个，偶数节点指向奇数节点的下一个，注意当下一个为空时需要指向None, 并且需要存储第一个偶数节点"
   ],
   "metadata": {
    "collapsed": false,
    "pycharm": {
     "name": "#%% md\n"
    }
   }
  },
  {
   "cell_type": "code",
   "execution_count": 84,
   "outputs": [
    {
     "name": "stdout",
     "output_type": "stream",
     "text": [
      "[1, 3, 5, 2, 4, 6]\n"
     ]
    }
   ],
   "source": [
    "def oddEvenList(head: ListNode) -> ListNode:\n",
    "    if head is None or head.next is None:\n",
    "        return head\n",
    "    odd_node = head\n",
    "    even_node = head.next\n",
    "    p = even_node\n",
    "\n",
    "    while odd_node.next or p.next:\n",
    "        if p.next:\n",
    "            odd_node.next = p.next\n",
    "            odd_node = odd_node.next\n",
    "        else:\n",
    "            odd_node.next = None\n",
    "        if odd_node.next:\n",
    "            p.next = odd_node.next\n",
    "            p = p.next\n",
    "        else:\n",
    "            p.next = None\n",
    "    odd_node.next = even_node\n",
    "    return head\n",
    "\n",
    "\n",
    "head = ListLink([1, 2, 3, 4, 5, 6]).get_head()\n",
    "print(ListLink.link_to_list(oddEvenList(head)))"
   ],
   "metadata": {
    "collapsed": false,
    "pycharm": {
     "name": "#%%\n"
    }
   }
  },
  {
   "cell_type": "markdown",
   "source": [
    "#### 16. 删除有序链表中重复的元素-I删除给出链表中的重复元素（链表中元素从小到大有序），使链表中的所有元素都只出现一次\n",
    "例如：\n",
    "给出的链表为$1\\to1\\to2$,返回$1 \\to 2$.\n",
    "给出的链表为$1\\to1\\to 2 \\to 3 \\to 3$,返回$1\\to 2 \\to 3$.\n",
    "```\n",
    "输入：\n",
    "{1,1,2}\n",
    "\n",
    "返回值：\n",
    "{1,2}\n",
    "```"
   ],
   "metadata": {
    "collapsed": false
   }
  },
  {
   "cell_type": "code",
   "execution_count": 89,
   "outputs": [
    {
     "name": "stdout",
     "output_type": "stream",
     "text": [
      "[1, 2]\n"
     ]
    }
   ],
   "source": [
    "def deleteDuplicates(head: ListNode) -> ListNode:\n",
    "    if head is None or head.next is None:\n",
    "        return head\n",
    "    else:\n",
    "        p = head\n",
    "        while p.next:\n",
    "            if p.val == p.next.val:\n",
    "                p.next = p.next.next\n",
    "            else:\n",
    "                p = p.next\n",
    "        return head\n",
    "\n",
    "\n",
    "head = ListLink([1, 1, 2]).get_head()\n",
    "print(ListLink.link_to_list(deleteDuplicates(head)))"
   ],
   "metadata": {
    "collapsed": false,
    "pycharm": {
     "name": "#%%\n"
    }
   }
  },
  {
   "cell_type": "markdown",
   "source": [],
   "metadata": {
    "collapsed": false,
    "pycharm": {
     "name": "#%% md\n"
    }
   }
  },
  {
   "cell_type": "markdown",
   "source": [
    "#### 17. 删除有序链表中重复的元素-II\n",
    "给出一个升序排序的链表，删除链表中的所有重复出现的元素，只保留原链表中只出现一次的元素。\n",
    "例如：\n",
    "给出的链表为$1 \\to 2\\to 3\\to 3\\to 4\\to 4\\to5$, 返回$1\\to 2\\to5$.\n",
    "给出的链表为$1\\to1 \\to 1\\to 2 \\to 3$, 返回$2\\to 3$\n",
    "```\n",
    "输入：\n",
    "{1,2,2}\n",
    "\n",
    "返回值：\n",
    "{1}\n",
    "```"
   ],
   "metadata": {
    "collapsed": false,
    "pycharm": {
     "name": "#%% md\n"
    }
   }
  },
  {
   "cell_type": "code",
   "execution_count": 94,
   "outputs": [
    {
     "name": "stdout",
     "output_type": "stream",
     "text": [
      "[1, 2, 5]\n"
     ]
    }
   ],
   "source": [
    "def deleteDuplicates2(head: ListNode) -> ListNode:\n",
    "        if head is None or head.next is None:\n",
    "            return head\n",
    "        top = ListNode(0)\n",
    "        top.next = head\n",
    "        cur = top\n",
    "        while cur.next and cur.next.next:\n",
    "            if cur.next.val != cur.next.next.val:\n",
    "                cur = cur.next\n",
    "            else:\n",
    "                val = cur.next.val\n",
    "                while cur.next and val == cur.next.val:\n",
    "                    cur.next = cur.next.next\n",
    "        return top.next\n",
    "\n",
    "\n",
    "head = ListLink([1, 2, 3, 3, 4, 4, 5]).get_head()\n",
    "print(ListLink.link_to_list(deleteDuplicates2(head)))"
   ],
   "metadata": {
    "collapsed": false,
    "pycharm": {
     "name": "#%%\n"
    }
   }
  }
 ],
 "metadata": {
  "kernelspec": {
   "display_name": "Python 3",
   "language": "python",
   "name": "python3"
  },
  "language_info": {
   "codemirror_mode": {
    "name": "ipython",
    "version": 2
   },
   "file_extension": ".py",
   "mimetype": "text/x-python",
   "name": "python",
   "nbconvert_exporter": "python",
   "pygments_lexer": "ipython2",
   "version": "2.7.6"
  }
 },
 "nbformat": 4,
 "nbformat_minor": 0
}