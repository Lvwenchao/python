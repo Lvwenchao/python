{
 "cells": [
  {
   "cell_type": "markdown",
   "metadata": {
    "collapsed": true,
    "pycharm": {
     "name": "#%% md\n"
    }
   },
   "source": [
    "#### 1.z字形变换\n",
    "将一个给定字符串,比如 PAYPALISHIRING ，根据给定的行数，以从上往下、从左到右进行 Z 字形排列。\n",
    "```\n",
    "P   A   H   N\n",
    "A P L S I I G\n",
    "Y   I   R\n",
    "```\n",
    "之后，你的输出需要从左往右逐行读取，产生出一个新的字符串，比如：\"PAHNAPLSIIGYIR\"。"
   ]
  },
  {
   "cell_type": "code",
   "execution_count": 21,
   "outputs": [
    {
     "ename": "IndexError",
     "evalue": "list index out of range",
     "output_type": "error",
     "traceback": [
      "\u001B[1;31m---------------------------------------------------------------------------\u001B[0m",
      "\u001B[1;31mIndexError\u001B[0m                                Traceback (most recent call last)",
      "\u001B[1;32m<ipython-input-21-033c9e367b3f>\u001B[0m in \u001B[0;36m<module>\u001B[1;34m\u001B[0m\n\u001B[0;32m     42\u001B[0m \u001B[1;33m\u001B[0m\u001B[0m\n\u001B[0;32m     43\u001B[0m \u001B[1;33m\u001B[0m\u001B[0m\n\u001B[1;32m---> 44\u001B[1;33m \u001B[0mprint\u001B[0m\u001B[1;33m(\u001B[0m\u001B[0mconvert\u001B[0m\u001B[1;33m(\u001B[0m\u001B[1;34m\"PAYPALISHIRING\"\u001B[0m\u001B[1;33m,\u001B[0m \u001B[0mnumRows\u001B[0m\u001B[1;33m=\u001B[0m\u001B[1;36m3\u001B[0m\u001B[1;33m)\u001B[0m\u001B[1;33m)\u001B[0m\u001B[1;33m\u001B[0m\u001B[1;33m\u001B[0m\u001B[0m\n\u001B[0m",
      "\u001B[1;32m<ipython-input-21-033c9e367b3f>\u001B[0m in \u001B[0;36mconvert\u001B[1;34m(s, numRows)\u001B[0m\n\u001B[0;32m     20\u001B[0m             \u001B[1;31m# 第一行不需要换行\u001B[0m\u001B[1;33m\u001B[0m\u001B[1;33m\u001B[0m\u001B[1;33m\u001B[0m\u001B[0m\n\u001B[0;32m     21\u001B[0m             \u001B[0mconverse\u001B[0m \u001B[1;33m=\u001B[0m \u001B[1;32mFalse\u001B[0m\u001B[1;33m\u001B[0m\u001B[1;33m\u001B[0m\u001B[0m\n\u001B[1;32m---> 22\u001B[1;33m         \u001B[0mzlist\u001B[0m\u001B[1;33m[\u001B[0m\u001B[0mj\u001B[0m\u001B[1;33m]\u001B[0m\u001B[1;33m.\u001B[0m\u001B[0mappend\u001B[0m\u001B[1;33m(\u001B[0m\u001B[0ma\u001B[0m\u001B[1;33m)\u001B[0m\u001B[1;33m\u001B[0m\u001B[1;33m\u001B[0m\u001B[0m\n\u001B[0m\u001B[0;32m     23\u001B[0m         \u001B[1;31m# 行数在中间时\u001B[0m\u001B[1;33m\u001B[0m\u001B[1;33m\u001B[0m\u001B[1;33m\u001B[0m\u001B[0m\n\u001B[0;32m     24\u001B[0m         \u001B[1;32mif\u001B[0m \u001B[0mj\u001B[0m \u001B[1;33m+\u001B[0m \u001B[1;36m1\u001B[0m \u001B[1;33m<=\u001B[0m \u001B[0mnumRows\u001B[0m\u001B[1;33m:\u001B[0m\u001B[1;33m\u001B[0m\u001B[1;33m\u001B[0m\u001B[0m\n",
      "\u001B[1;31mIndexError\u001B[0m: list index out of range"
     ]
    }
   ],
   "source": [
    "def convert(s, numRows):\n",
    "    if numRows == 1:\n",
    "        return s\n",
    "\n",
    "    zlist = []\n",
    "    result = ''\n",
    "    n = numRows\n",
    "\n",
    "    # 记录每一行的空列表\n",
    "    while n:\n",
    "        zlist.append([])\n",
    "        n = n - 1\n",
    "\n",
    "    # 表示字符所在的行数\n",
    "    j = 0\n",
    "    # 当换行的标记\n",
    "    converse = False\n",
    "    for a in s:\n",
    "        if j == 0:\n",
    "            # 第一行不需要换行\n",
    "            converse = False\n",
    "        zlist[j].append(a)\n",
    "        # 行数在中间时\n",
    "        if j + 1 <= numRows:\n",
    "            # 位于Z 斜轴的中间需需要换方向\n",
    "            if converse:\n",
    "                j = j - 1\n",
    "            # 继续到下一行\n",
    "            else:\n",
    "                j = j + 1\n",
    "        # 当为最后一行\n",
    "        else:\n",
    "            j = j - 1\n",
    "            # 改变方向\n",
    "            converse = True\n",
    "\n",
    "    # get the converted string\n",
    "    for z in zlist:\n",
    "        for t in z:\n",
    "            result = result + t\n",
    "    return result\n",
    "\n",
    "\n",
    "print(convert(\"PAYPALISHIRING\", numRows=3))"
   ],
   "metadata": {
    "collapsed": false,
    "pycharm": {
     "name": "#%%\n"
    }
   }
  },
  {
   "cell_type": "markdown",
   "source": [
    "#### 17. 二分查找-I\n",
    "请实现无重复数字的升序数组的二分查找\n",
    "给定一个元素升序的、无重复数字的整型数组 nums 和一个目标值 target ，写一个函数搜索 nums 中的 target，如果目标值存在返回下标（下标从 0 开始），否则返回 -1\n",
    "```\n",
    "输入：\n",
    "[-1,0,3,4,6,10,13,14],13\n",
    "\n",
    "返回值：\n",
    "6\n",
    "\n",
    "说明：\n",
    "13 出现在nums中并且下标为 6\n",
    "```\n",
    "两种方法：\n",
    "1. 左右皆闭区间\n",
    "```\n",
    "初始条件: left = 0, right = length-1\n",
    "终止条件: left > right\n",
    "Searching Left: right = mid-1\n",
    "Searching Right: left = mid+1\n",
    "适用范围:仅需mid就能判断左右区间\n",
    "```\n",
    "2. 左闭右开\n",
    "```\n",
    "Initial Condition: left = 0, right = length\n",
    "Termination: left == right\n",
    "Searching Left: right = mid\n",
    "Searching Right: left = mid+1\n",
    "```"
   ],
   "metadata": {
    "collapsed": false,
    "pycharm": {
     "name": "#%% md\n"
    }
   }
  },
  {
   "cell_type": "code",
   "execution_count": 1,
   "outputs": [
    {
     "name": "stdout",
     "output_type": "stream",
     "text": [
      "-1\n"
     ]
    }
   ],
   "source": [
    "from typing import List\n",
    "\n",
    "\n",
    "#\n",
    "def search(nums: List[int], target: int) -> int:\n",
    "    \"\"\"\n",
    "    方法一，左右开区间\n",
    "    :param nums:\n",
    "    :param target:\n",
    "    :return:\n",
    "    \"\"\"\n",
    "    lenght = len(nums)\n",
    "    if lenght == 0:\n",
    "        return -1\n",
    "    if target > nums[-1] or target < nums[0]:\n",
    "        return -1\n",
    "    left = 0\n",
    "    right = lenght - 1\n",
    "    while left <= right:\n",
    "        middle = (left + right) // 2\n",
    "        if nums[middle] == target:\n",
    "            return middle\n",
    "        elif nums[middle] < target:\n",
    "            left = middle + 1\n",
    "        else:\n",
    "            right = middle - 1\n",
    "    return -1\n",
    "\n",
    "\n",
    "def search2(nums: List[int], target: int):\n",
    "    \"\"\"\n",
    "    方法二：左开右闭\n",
    "    :param nums:\n",
    "    :param target:\n",
    "    :return:\n",
    "    \"\"\"\n",
    "    length = len(nums)\n",
    "    if length == 0:\n",
    "        return -1\n",
    "    if target > nums[-1] or target < nums[0]:\n",
    "        return -1\n",
    "    left = 0\n",
    "    right = length\n",
    "    while left < right:\n",
    "        middle = (left + right) // 2\n",
    "        if nums[middle] == target:\n",
    "            return middle\n",
    "        elif nums[middle] < target:\n",
    "            left = middle + 1\n",
    "        else:\n",
    "            right = middle\n",
    "    return -1\n",
    "\n",
    "\n",
    "nums = []\n",
    "print(search2(nums, 13))"
   ],
   "metadata": {
    "collapsed": false,
    "pycharm": {
     "name": "#%%\n"
    }
   }
  },
  {
   "cell_type": "markdown",
   "source": [
    "#### 18. 二维数组查找\n",
    "在一个二维数组array中（每个一维数组的长度相同），每一行都按照从左到右递增的顺序排序，每一列都按照从上到下递增的顺序排序。请完成一个函数，输入这样的一个二维数组和一个整数，判断数组中是否含有该整数。\n",
    "[[1,2,8,9],\n",
    "[2,4,9,12],\n",
    "[4,7,10,13],\n",
    "[6,8,11,15]]\n",
    "给定 target = 7，返回 true。\n",
    "给定 target = 3，返回 false。\n",
    "```\n",
    "输入：\n",
    "7,[[1,2,8,9],[2,4,9,12],[4,7,10,13],[6,8,11,15]]\n",
    "\n",
    "返回值：\n",
    "true\n",
    "\n",
    "说明：\n",
    "存在7，返回true\n",
    "```\n",
    "从左下角开始，大于该值的都在右边，小于该值的都在上边"
   ],
   "metadata": {
    "collapsed": false,
    "pycharm": {
     "name": "#%% md\n"
    }
   }
  },
  {
   "cell_type": "code",
   "execution_count": 16,
   "outputs": [
    {
     "name": "stdout",
     "output_type": "stream",
     "text": [
      "True\n"
     ]
    }
   ],
   "source": [
    "def Find(target: int, array: List[List[int]]) -> bool:\n",
    "    # write code here\n",
    "    rows = len(array) - 1\n",
    "    cols = len(array[0]) - 1\n",
    "    i = rows\n",
    "    j = 0\n",
    "    while j <= cols and i >= 0:\n",
    "        if target < array[i][j]:\n",
    "            i -= 1\n",
    "        elif target > array[i][j]:\n",
    "            j += 1\n",
    "        else:\n",
    "            return True\n",
    "    return False\n",
    "\n",
    "\n",
    "arrar = [[1, 2, 8, 9],\n",
    "         [2, 4, 9, 12],\n",
    "         [4, 7, 10, 13],\n",
    "         [6, 8, 11, 15]]\n",
    "\n",
    "print(Find(7, arrar))"
   ],
   "metadata": {
    "collapsed": false,
    "pycharm": {
     "name": "#%%\n"
    }
   }
  },
  {
   "cell_type": "markdown",
   "source": [
    "#### 19. 寻找峰值\n",
    "给定一个长度为n的数组nums，请你找到峰值并返回其索引。数组可能包含多个峰值，在这种情况下，返回任何一个所在位置即可。\n",
    "1.峰值元素是指其值严格大于左右相邻值的元素。严格大于即不能有等于\n",
    "2.假设 $nums[-1] = nums[n] = -\\infty$\n",
    "3.对于所有有效的 i 都有 $nums[i] != nums[i + 1]$\n",
    "4.你可以使用$O(logN)$的时间复杂度实现此问题吗？\n",
    "对于最左边和最右边的，如果右边大于和左边大于。则说明存在波峰\n",
    "对于中间的如果两边都小于则，则存在峰值"
   ],
   "metadata": {
    "collapsed": false,
    "pycharm": {
     "name": "#%% md\n"
    }
   }
  },
  {
   "cell_type": "code",
   "execution_count": 20,
   "outputs": [
    {
     "name": "stdout",
     "output_type": "stream",
     "text": [
      "1\n"
     ]
    }
   ],
   "source": [
    "def findPeakElement(nums: List[int]) -> int:\n",
    "    if len(nums) == 1:\n",
    "        return 0\n",
    "    index = 0\n",
    "    while index < len(nums) - 1:\n",
    "        if index == 0:\n",
    "            if nums[index + 1] < nums[index]:\n",
    "                return 0\n",
    "            else:\n",
    "                index += 1\n",
    "        else:\n",
    "            if nums[index + 1] < nums[index] and nums[index - 1] < nums[index]:\n",
    "                return index\n",
    "            else:\n",
    "                index += 1\n",
    "    return len(nums) - 1\n",
    "\n",
    "\n",
    "print(findPeakElement([2, 4, 1, 2, 7, 8, 4]))"
   ],
   "metadata": {
    "collapsed": false,
    "pycharm": {
     "name": "#%%\n"
    }
   }
  },
  {
   "cell_type": "markdown",
   "source": [
    "#### 20. 数组中的逆序对\n",
    "在数组中的两个数字，如果前面一个数字大于后面的数字，则这两个数字组成一个逆序对。输入一个数组,求出这个数组中的逆序对的总数P。并将P对1000000007取模的结果输出。 即输出P mod 1000000007\n",
    "```\n",
    "输入：\n",
    "[1,2,3,4,5,6,7,0]\n",
    "\n",
    "返回值：\n",
    "7\n",
    "```\n",
    "采用分治排序的思想"
   ],
   "metadata": {
    "collapsed": false,
    "pycharm": {
     "name": "#%% md\n"
    }
   }
  },
  {
   "cell_type": "code",
   "execution_count": null,
   "outputs": [],
   "source": [],
   "metadata": {
    "collapsed": false,
    "pycharm": {
     "name": "#%%\n"
    }
   }
  },
  {
   "cell_type": "markdown",
   "source": [
    "#### 21 旋转数组的最小数字\n",
    "有一个长度为 n 的非降序数组，比如[1,2,3,4,5]，将它进行旋转，即把一个数组最开始的若干个元素搬到数组的末尾，变成一个旋转数组，比如变成了[3,4,5,1,2]，或者[4,5,1,2,3]这样的。请问，给定这样一个旋转数组，求数组中的最小值。\n",
    "```\n",
    "输入：\n",
    "[3,4,5,1,2]\n",
    "复制\n",
    "返回值：\n",
    "1\n",
    "```"
   ],
   "metadata": {
    "collapsed": false,
    "pycharm": {
     "name": "#%% md\n"
    }
   }
  },
  {
   "cell_type": "code",
   "execution_count": null,
   "outputs": [],
   "source": [
    "def minNumberInRotateArray(rotateArray: List[int]) -> int:\n",
    "    # write code here\n",
    "    if len(rotateArray) == 0:\n",
    "        return 0\n",
    "    left, right = 0, len(rotateArray) - 1\n",
    "    while left < right:\n",
    "        mid = (left + right) // 2\n",
    "        if rotateArray[mid] > rotateArray[right]:\n",
    "            left = mid + 1\n",
    "        elif rotateArray[mid] == rotateArray[right]:\n",
    "            right -= 1\n",
    "        else:\n",
    "            right = mid\n",
    "    return rotateArray[left]"
   ],
   "metadata": {
    "collapsed": false,
    "pycharm": {
     "name": "#%%\n"
    }
   }
  },
  {
   "cell_type": "code",
   "execution_count": 17,
   "outputs": [
    {
     "name": "stdout",
     "output_type": "stream",
     "text": [
      "True\n"
     ]
    }
   ],
   "source": [
    "a = [0, 1, 2]\n",
    "print(any(a) != 0)"
   ],
   "metadata": {
    "collapsed": false,
    "pycharm": {
     "name": "#%%\n"
    }
   }
  },
  {
   "cell_type": "code",
   "execution_count": null,
   "outputs": [
    {
     "ename": "KeyboardInterrupt",
     "evalue": "",
     "output_type": "error",
     "traceback": [
      "\u001B[1;31m---------------------------------------------------------------------------\u001B[0m",
      "\u001B[1;31mKeyboardInterrupt\u001B[0m                         Traceback (most recent call last)",
      "Input \u001B[1;32mIn [19]\u001B[0m, in \u001B[0;36m<cell line: 27>\u001B[1;34m()\u001B[0m\n\u001B[0;32m     23\u001B[0m         \u001B[38;5;28;01melse\u001B[39;00m:\n\u001B[0;32m     24\u001B[0m             \u001B[38;5;28;01mreturn\u001B[39;00m \u001B[38;5;241m0\u001B[39m\n\u001B[1;32m---> 27\u001B[0m \u001B[38;5;28mprint\u001B[39m(\u001B[43mcompare\u001B[49m\u001B[43m(\u001B[49m\u001B[38;5;124;43m\"\u001B[39;49m\u001B[38;5;124;43m1.0\u001B[39;49m\u001B[38;5;124;43m\"\u001B[39;49m\u001B[43m,\u001B[49m\u001B[43m \u001B[49m\u001B[38;5;124;43m\"\u001B[39;49m\u001B[38;5;124;43m1.0.0\u001B[39;49m\u001B[38;5;124;43m\"\u001B[39;49m\u001B[43m)\u001B[49m)\n",
      "Input \u001B[1;32mIn [19]\u001B[0m, in \u001B[0;36mcompare\u001B[1;34m(version1, version2)\u001B[0m\n\u001B[0;32m      3\u001B[0m num1 \u001B[38;5;241m=\u001B[39m [\u001B[38;5;28mint\u001B[39m(_) \u001B[38;5;28;01mfor\u001B[39;00m _ \u001B[38;5;129;01min\u001B[39;00m version1\u001B[38;5;241m.\u001B[39msplit(\u001B[38;5;124m\"\u001B[39m\u001B[38;5;124m.\u001B[39m\u001B[38;5;124m\"\u001B[39m)]\n\u001B[0;32m      4\u001B[0m num2 \u001B[38;5;241m=\u001B[39m [\u001B[38;5;28mint\u001B[39m(_) \u001B[38;5;28;01mfor\u001B[39;00m _ \u001B[38;5;129;01min\u001B[39;00m version2\u001B[38;5;241m.\u001B[39msplit(\u001B[38;5;124m\"\u001B[39m\u001B[38;5;124m.\u001B[39m\u001B[38;5;124m\"\u001B[39m)]\n\u001B[1;32m----> 5\u001B[0m \u001B[38;5;28;01mfor\u001B[39;00m i \u001B[38;5;129;01min\u001B[39;00m \u001B[38;5;28;43mrange\u001B[39;49m(\u001B[38;5;28mmin\u001B[39m(\u001B[38;5;28mlen\u001B[39m(version1), \u001B[38;5;28mlen\u001B[39m(version2))):\n\u001B[0;32m      6\u001B[0m     \u001B[38;5;28;01mif\u001B[39;00m num1[i] \u001B[38;5;241m==\u001B[39m num2[i]:\n\u001B[0;32m      7\u001B[0m         \u001B[38;5;28;01mcontinue\u001B[39;00m\n",
      "Input \u001B[1;32mIn [19]\u001B[0m, in \u001B[0;36mcompare\u001B[1;34m(version1, version2)\u001B[0m\n\u001B[0;32m      3\u001B[0m num1 \u001B[38;5;241m=\u001B[39m [\u001B[38;5;28mint\u001B[39m(_) \u001B[38;5;28;01mfor\u001B[39;00m _ \u001B[38;5;129;01min\u001B[39;00m version1\u001B[38;5;241m.\u001B[39msplit(\u001B[38;5;124m\"\u001B[39m\u001B[38;5;124m.\u001B[39m\u001B[38;5;124m\"\u001B[39m)]\n\u001B[0;32m      4\u001B[0m num2 \u001B[38;5;241m=\u001B[39m [\u001B[38;5;28mint\u001B[39m(_) \u001B[38;5;28;01mfor\u001B[39;00m _ \u001B[38;5;129;01min\u001B[39;00m version2\u001B[38;5;241m.\u001B[39msplit(\u001B[38;5;124m\"\u001B[39m\u001B[38;5;124m.\u001B[39m\u001B[38;5;124m\"\u001B[39m)]\n\u001B[1;32m----> 5\u001B[0m \u001B[38;5;28;01mfor\u001B[39;00m i \u001B[38;5;129;01min\u001B[39;00m \u001B[38;5;28;43mrange\u001B[39;49m(\u001B[38;5;28mmin\u001B[39m(\u001B[38;5;28mlen\u001B[39m(version1), \u001B[38;5;28mlen\u001B[39m(version2))):\n\u001B[0;32m      6\u001B[0m     \u001B[38;5;28;01mif\u001B[39;00m num1[i] \u001B[38;5;241m==\u001B[39m num2[i]:\n\u001B[0;32m      7\u001B[0m         \u001B[38;5;28;01mcontinue\u001B[39;00m\n",
      "File \u001B[1;32m_pydevd_bundle\\pydevd_cython_win32_38_64.pyx:1180\u001B[0m, in \u001B[0;36m_pydevd_bundle.pydevd_cython_win32_38_64.SafeCallWrapper.__call__\u001B[1;34m()\u001B[0m\n",
      "File \u001B[1;32m_pydevd_bundle\\pydevd_cython_win32_38_64.pyx:621\u001B[0m, in \u001B[0;36m_pydevd_bundle.pydevd_cython_win32_38_64.PyDBFrame.trace_dispatch\u001B[1;34m()\u001B[0m\n",
      "File \u001B[1;32m_pydevd_bundle\\pydevd_cython_win32_38_64.pyx:930\u001B[0m, in \u001B[0;36m_pydevd_bundle.pydevd_cython_win32_38_64.PyDBFrame.trace_dispatch\u001B[1;34m()\u001B[0m\n",
      "File \u001B[1;32m_pydevd_bundle\\pydevd_cython_win32_38_64.pyx:921\u001B[0m, in \u001B[0;36m_pydevd_bundle.pydevd_cython_win32_38_64.PyDBFrame.trace_dispatch\u001B[1;34m()\u001B[0m\n",
      "File \u001B[1;32m_pydevd_bundle\\pydevd_cython_win32_38_64.pyx:318\u001B[0m, in \u001B[0;36m_pydevd_bundle.pydevd_cython_win32_38_64.PyDBFrame.do_wait_suspend\u001B[1;34m()\u001B[0m\n",
      "File \u001B[1;32mD:\\Program Files\\JetBrains\\PyCharm 2021.3.1\\plugins\\python\\helpers\\pydev\\pydevd.py:1147\u001B[0m, in \u001B[0;36mPyDB.do_wait_suspend\u001B[1;34m(self, thread, frame, event, arg, send_suspend_message, is_unhandled_exception)\u001B[0m\n\u001B[0;32m   1144\u001B[0m         from_this_thread\u001B[38;5;241m.\u001B[39mappend(frame_id)\n\u001B[0;32m   1146\u001B[0m \u001B[38;5;28;01mwith\u001B[39;00m \u001B[38;5;28mself\u001B[39m\u001B[38;5;241m.\u001B[39m_threads_suspended_single_notification\u001B[38;5;241m.\u001B[39mnotify_thread_suspended(thread_id, stop_reason):\n\u001B[1;32m-> 1147\u001B[0m     \u001B[38;5;28;43mself\u001B[39;49m\u001B[38;5;241;43m.\u001B[39;49m\u001B[43m_do_wait_suspend\u001B[49m\u001B[43m(\u001B[49m\u001B[43mthread\u001B[49m\u001B[43m,\u001B[49m\u001B[43m \u001B[49m\u001B[43mframe\u001B[49m\u001B[43m,\u001B[49m\u001B[43m \u001B[49m\u001B[43mevent\u001B[49m\u001B[43m,\u001B[49m\u001B[43m \u001B[49m\u001B[43marg\u001B[49m\u001B[43m,\u001B[49m\u001B[43m \u001B[49m\u001B[43msuspend_type\u001B[49m\u001B[43m,\u001B[49m\u001B[43m \u001B[49m\u001B[43mfrom_this_thread\u001B[49m\u001B[43m)\u001B[49m\n",
      "File \u001B[1;32mD:\\Program Files\\JetBrains\\PyCharm 2021.3.1\\plugins\\python\\helpers\\pydev\\pydevd.py:1162\u001B[0m, in \u001B[0;36mPyDB._do_wait_suspend\u001B[1;34m(self, thread, frame, event, arg, suspend_type, from_this_thread)\u001B[0m\n\u001B[0;32m   1159\u001B[0m             \u001B[38;5;28mself\u001B[39m\u001B[38;5;241m.\u001B[39m_call_mpl_hook()\n\u001B[0;32m   1161\u001B[0m         \u001B[38;5;28mself\u001B[39m\u001B[38;5;241m.\u001B[39mprocess_internal_commands()\n\u001B[1;32m-> 1162\u001B[0m         \u001B[43mtime\u001B[49m\u001B[38;5;241;43m.\u001B[39;49m\u001B[43msleep\u001B[49m\u001B[43m(\u001B[49m\u001B[38;5;241;43m0.01\u001B[39;49m\u001B[43m)\u001B[49m\n\u001B[0;32m   1164\u001B[0m \u001B[38;5;28mself\u001B[39m\u001B[38;5;241m.\u001B[39mcancel_async_evaluation(get_current_thread_id(thread), \u001B[38;5;28mstr\u001B[39m(\u001B[38;5;28mid\u001B[39m(frame)))\n\u001B[0;32m   1166\u001B[0m \u001B[38;5;66;03m# process any stepping instructions\u001B[39;00m\n",
      "\u001B[1;31mKeyboardInterrupt\u001B[0m: "
     ]
    }
   ],
   "source": [
    "def compare(version1: str, version2: str) -> int:\n",
    "    # write code here\n",
    "    num1 = [int(_) for _ in version1.split(\".\")]\n",
    "    num2 = [int(_) for _ in version2.split(\".\")]\n",
    "    for i in range(min(len(num1), len(num2))):\n",
    "        if num1[i] == num2[i]:\n",
    "            continue\n",
    "        elif num1[i] < num2[i]:\n",
    "            return -1\n",
    "        else:\n",
    "            return 1\n",
    "\n",
    "    if len(num1) > len(num2):\n",
    "        if any(num1[len(num2):]) != 0:\n",
    "            return 1\n",
    "        else:\n",
    "            return 0\n",
    "    elif len(num1) == len(num2):\n",
    "        return 0\n",
    "    else:\n",
    "        if any(num2[len(num1):]) != 0:\n",
    "            return -1\n",
    "        else:\n",
    "            return 0\n",
    "\n",
    "\n",
    "print(compare(\"1.0\", \"1.0.0\"))"
   ],
   "metadata": {
    "collapsed": false,
    "pycharm": {
     "name": "#%%\n"
    }
   }
  }
 ],
 "metadata": {
  "kernelspec": {
   "display_name": "Python 3",
   "language": "python",
   "name": "python3"
  },
  "language_info": {
   "codemirror_mode": {
    "name": "ipython",
    "version": 2
   },
   "file_extension": ".py",
   "mimetype": "text/x-python",
   "name": "python",
   "nbconvert_exporter": "python",
   "pygments_lexer": "ipython2",
   "version": "2.7.6"
  }
 },
 "nbformat": 4,
 "nbformat_minor": 0
}