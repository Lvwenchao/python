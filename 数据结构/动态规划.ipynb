{
 "cells": [
  {
   "cell_type": "markdown",
   "metadata": {
    "collapsed": true,
    "pycharm": {
     "name": "#%% md\n"
    }
   },
   "source": [
    "\n",
    "\n",
    "### 动态规划解题步骤\n",
    "1. 确定状态和保存状态变量\n",
    "2. 确定决策并写出状态转移方程\n",
    "3. 确定边界条件"
   ]
  },
  {
   "cell_type": "markdown",
   "source": [
    "#### 1. 斐波那契数列\n",
    "斐波那契数列是一个满足满足\n",
    "$$fib(x)=\n",
    "\\begin{case}\n",
    "1, \\quad x=1,2\\\\\n",
    "fib(x-1)+fib(x-2) \\quad x>2\n",
    "\\end{case}\n",
    "$$\n",
    "数据范围：$1\\leq n\\leq 40$"
   ],
   "metadata": {
    "collapsed": false,
    "pycharm": {
     "name": "#%% md\n"
    }
   }
  },
  {
   "cell_type": "code",
   "execution_count": 1,
   "outputs": [
    {
     "name": "stdout",
     "output_type": "stream",
     "text": [
      "13\n"
     ]
    }
   ],
   "source": [
    "n = int(input())\n",
    "\n",
    "\n",
    "def fib(n):\n",
    "    # 确定状态存储方式，每个值只需要有前两个值决定，所以只需要知道前两个值就可以得到结果\n",
    "    # 确定边界条件\n",
    "    a, b = 0, 1\n",
    "    sum_value = 0\n",
    "    for i in range(0, n):\n",
    "        sum_value = a + b\n",
    "        a = b\n",
    "        b = sum_value\n",
    "    return a\n",
    "\n",
    "\n",
    "print(fib(n))"
   ],
   "metadata": {
    "collapsed": false,
    "pycharm": {
     "name": "#%%\n"
    }
   }
  },
  {
   "cell_type": "markdown",
   "source": [
    "#### 2. 跳台阶\n",
    "一只青蛙一次可以跳上1级台阶，也可以跳上2级。求该青蛙跳上一个 n 级的台阶总共有多少种跳法（先后次序不同算不同的结果）。\n",
    "\n",
    "数据范围：$0 \\leq n \\leq 40$\n",
    "解题思路\n",
    "状态转移方程：f(x)=f(x-1)+f(x-1)\n"
   ],
   "metadata": {
    "collapsed": false,
    "pycharm": {
     "name": "#%% md\n"
    }
   }
  },
  {
   "cell_type": "code",
   "execution_count": 12,
   "outputs": [
    {
     "name": "stdout",
     "output_type": "stream",
     "text": [
      "5\n"
     ]
    }
   ],
   "source": [
    "# 该题与上题相似\n",
    "# 穷举\n",
    "# 0,1 都是一种方法\n",
    "# 2是两种方法\n",
    "# 对于x>2, 出现的跳法为 x-1的跳法+x-2的跳法\n",
    "n = int(input())\n",
    "\n",
    "\n",
    "def jump(n):\n",
    "    a, b = 0, 1\n",
    "    sum_v = 0\n",
    "    for i in range(0, n):\n",
    "        sum_v = a + b\n",
    "        a = b\n",
    "        b = sum_v\n",
    "    return b\n",
    "\n",
    "\n",
    "print(jump(n))"
   ],
   "metadata": {
    "collapsed": false,
    "pycharm": {
     "name": "#%%\n"
    }
   }
  },
  {
   "cell_type": "markdown",
   "source": [
    "#### 3. 跳台阶扩展问题\n",
    "一只青蛙一次可以跳上1级台阶，也可以跳上2级……它也可以跳上n级。求该青蛙跳上一个n级的台阶(n为正整数)总共有多少种跳法。\n",
    "数据范围：$1 \\le n \\le 20$"
   ],
   "metadata": {
    "collapsed": false
   }
  },
  {
   "cell_type": "code",
   "execution_count": 21,
   "outputs": [
    {
     "ename": "ValueError",
     "evalue": "invalid literal for int() with base 10: ''",
     "output_type": "error",
     "traceback": [
      "\u001B[1;31m---------------------------------------------------------------------------\u001B[0m",
      "\u001B[1;31mValueError\u001B[0m                                Traceback (most recent call last)",
      "\u001B[1;32m<ipython-input-21-a81c6115ebba>\u001B[0m in \u001B[0;36m<module>\u001B[1;34m\u001B[0m\n\u001B[0;32m      1\u001B[0m \u001B[1;31m# 确定状态和保存状态：每个阶段为前面每个阶段的跳法加上直接跳过来的跳法\u001B[0m\u001B[1;33m\u001B[0m\u001B[1;33m\u001B[0m\u001B[1;33m\u001B[0m\u001B[0m\n\u001B[1;32m----> 2\u001B[1;33m \u001B[0mn\u001B[0m \u001B[1;33m=\u001B[0m \u001B[0mint\u001B[0m\u001B[1;33m(\u001B[0m\u001B[0minput\u001B[0m\u001B[1;33m(\u001B[0m\u001B[1;33m)\u001B[0m\u001B[1;33m)\u001B[0m\u001B[1;33m\u001B[0m\u001B[1;33m\u001B[0m\u001B[0m\n\u001B[0m\u001B[0;32m      3\u001B[0m \u001B[1;33m\u001B[0m\u001B[0m\n\u001B[0;32m      4\u001B[0m \u001B[1;33m\u001B[0m\u001B[0m\n\u001B[0;32m      5\u001B[0m \u001B[1;32mdef\u001B[0m \u001B[0mjump_N\u001B[0m\u001B[1;33m(\u001B[0m\u001B[0mn\u001B[0m\u001B[1;33m)\u001B[0m\u001B[1;33m:\u001B[0m\u001B[1;33m\u001B[0m\u001B[1;33m\u001B[0m\u001B[0m\n",
      "\u001B[1;31mValueError\u001B[0m: invalid literal for int() with base 10: ''"
     ]
    }
   ],
   "source": [
    "# 确定状态和保存状态：每个阶段为前面每个阶段的跳法加上直接跳过来的跳法\n",
    "n = int(input())\n",
    "\n",
    "\n",
    "def jump_N(n):\n",
    "    # 状态转移方程\n",
    "    return pow(2, n - 1)\n",
    "\n",
    "\n",
    "print(jump_N(n))"
   ],
   "metadata": {
    "collapsed": false,
    "pycharm": {
     "name": "#%%\n"
    }
   }
  },
  {
   "cell_type": "markdown",
   "source": [
    "#### 4. 最小花费爬楼梯\n",
    "给定一个整数数组 $cost$  ，其中 $cost[i]$  是从楼梯第$i$个台阶向上爬需要支付的费用，下标从0开始。一旦你支付此费用，即可选择向上爬一个或者两个台阶。你可以选择从下标为 0 或下标为 1 的台阶开始爬楼梯。请你计算并返回达到楼梯顶部的最低花费。\n",
    "数据范围：数组长度满足$1 \\le n \\le 10^5$，数组中的值满足 $1 \\le cost_i \\le 10^4$,示例\n",
    "```\n",
    "输入：\n",
    "3\n",
    "2 5 20\n",
    "输出：\n",
    "5\n",
    "说明：\n",
    "你将从下标为1的台阶开始，支付5 ，向上爬两个台阶，到达楼梯顶部。总花费为5\n",
    "```"
   ],
   "metadata": {
    "collapsed": false
   }
  },
  {
   "cell_type": "code",
   "execution_count": 52,
   "outputs": [
    {
     "name": "stdout",
     "output_type": "stream",
     "text": [
      "5\n"
     ]
    }
   ],
   "source": [
    "# 状态转移方程 price(x)=min(price(x-1),price(x-2)+5\n",
    "# 边界值：n=0,1,2 price=0\n",
    "n = int(input())\n",
    "cost = [int(_) for _ in input().split()]\n",
    "\n",
    "\n",
    "def get_cost():\n",
    "    # 确定边界值\n",
    "    if len(cost) <= 2:\n",
    "        return 0\n",
    "    else:\n",
    "        a = 0\n",
    "        b = 0\n",
    "        min_value = 0\n",
    "        for i in range(2, n + 1):\n",
    "            # 状态转移方程\n",
    "            min_value = min(a + cost[i - 2], b + cost[i - 1])\n",
    "            a = b\n",
    "            b = min_value\n",
    "        return min_value\n",
    "\n",
    "\n",
    "print(get_cost())"
   ],
   "metadata": {
    "collapsed": false,
    "pycharm": {
     "name": "#%%\n"
    }
   }
  },
  {
   "cell_type": "markdown",
   "source": [
    "#### 5. 有多少个不同的二叉搜索树\n",
    "给定一个由节点值从 1 到 n 的 n 个节点。请问由多少种不同的方法用这 n 个节点构成互不相同的二叉搜索树。\n",
    "数据范围： $1 \\le n \\le 19 $\n",
    "二叉搜搜索树：左子树节点小于跟节点，右子树节点均大于根节点的树\n",
    "```\n",
    "输入：\n",
    "3\n",
    "输出：\n",
    "5\n",
    "```"
   ],
   "metadata": {
    "collapsed": false
   }
  },
  {
   "cell_type": "markdown",
   "source": [],
   "metadata": {
    "collapsed": false
   }
  },
  {
   "cell_type": "code",
   "execution_count": 3,
   "outputs": [
    {
     "name": "stdout",
     "output_type": "stream",
     "text": [
      "5\n"
     ]
    }
   ],
   "source": [
    "# 状态转移方程：sum([dp[_]*dp[i-_-1] for _ in range(i)] 左节点的可能性+右节点的可能性\n",
    "# 寻找边界值 f(0)=0,f(1)=1,f(2)=2\n",
    "# 存储状态 dp\n",
    "n = int(input())\n",
    "dp = []\n",
    "for i in range(n + 1):\n",
    "    if i == 0 or i == 1:\n",
    "        dp.append(1)\n",
    "    else:\n",
    "        value = sum([dp[_] * dp[i - _ - 1] for _ in range(i)])\n",
    "        dp.append(value)\n",
    "\n",
    "print(dp[-1])"
   ],
   "metadata": {
    "collapsed": false,
    "pycharm": {
     "name": "#%%\n"
    }
   }
  },
  {
   "cell_type": "markdown",
   "source": [
    "#### 6. 连续子数组的最大乘积\n",
    "输入一个长度为 n 的整型数组 nums，数组中的一个或连续多个整数组成一个子数组。求所有子数组的乘积的最大值。\n",
    "- 子数组是连续的，且最小长度为 1 ，最大长度为 n\n",
    "- 长度为 1 的子数组，乘积视为其本身，比如 [4] 的乘积为 4\n",
    "- 该题的数据保证最大的乘积不会超过 int 的范围，即不超过$2^{32}-1$\n",
    "- 数据范围:$1 <= n <= 2\\times 10^5$,$-100 <= a[i] <= 100$"
   ],
   "metadata": {
    "collapsed": false,
    "pycharm": {
     "name": "#%% md\n"
    }
   }
  },
  {
   "cell_type": "code",
   "execution_count": 3,
   "outputs": [
    {
     "name": "stdout",
     "output_type": "stream",
     "text": [
      "6\n"
     ]
    }
   ],
   "source": [
    "## 因为要求子数组是连续的，所以状态转移方程为 f(x)=max(max_value,f(x-1)*x)\n",
    "def get_max_product():\n",
    "    nums = [int(_) for _ in input().split()]\n",
    "    min_t = 1\n",
    "    max_t = 1\n",
    "    max_value = nums[0]\n",
    "    for value in nums:\n",
    "        # 状态迁移\n",
    "        if value < 0:\n",
    "            # 最大值和最小值发生变化，会出现以下两种情况\n",
    "            # 最大值会变成最小值*value, 最小值会变成最大值*value\n",
    "            temp = max_t\n",
    "            max_t = min_t\n",
    "            min_t = temp\n",
    "        max_t = max(max_t * value, value)\n",
    "        min_t = min(min_t * value, value)\n",
    "        max_value = max(max_value, max_t)\n",
    "    return max_value\n",
    "\n",
    "\n",
    "print(get_max_product())"
   ],
   "metadata": {
    "collapsed": false,
    "pycharm": {
     "name": "#%%\n"
    }
   }
  },
  {
   "cell_type": "markdown",
   "source": [
    "#### 8.  乘积为正数的最长连续子数组\n",
    "给定一个长度为 n 的整数数组，请你找出其中最长的乘积为正数的子数组长度。\n",
    "子数组的定义是原数组中一定长度的**连续数字**组成的数组。\n",
    "输入描述：\n",
    "第一行输入一个正整数 n ，表示数组长度。\n",
    "第二行输入 n 个整数，表示数组中的元素。\n",
    "输出描述：\n",
    "输出最长的乘积为正数的子数组长度\n",
    "```\n",
    "输入：\n",
    "5\n",
    "1 2 3 -5 1\n",
    "输出：\n",
    "3\n",
    "```"
   ],
   "metadata": {
    "collapsed": false,
    "pycharm": {
     "name": "#%% md\n"
    }
   }
  },
  {
   "cell_type": "code",
   "source": [
    "n = int(input())\n",
    "nums = [int(_) for _ in input().split()]\n",
    "max_pos = [1 if nums[0] > 0 else 0]\n",
    "max_neg = [1 if nums[0] < 0 else 0]\n",
    "max_len = max_pos[0]\n",
    "for i in range(1, n):\n",
    "    if nums[i] < 0:\n",
    "        max_pos.append(max_neg[i - 1] + 1 if max_neg[i - 1] > 0 else 0)\n",
    "        max_neg.append(max_pos[i - 1] + 1)\n",
    "    elif nums[i] > 0:\n",
    "        max_pos.append(max_pos[i - 1] + 1)\n",
    "        max_neg.append(max_neg[i - 1] + 1 if max_neg[i - 1] > 0 else 0)\n",
    "    else:\n",
    "        max_pos.append(0)\n",
    "        max_neg.append(0)\n",
    "    max_len = max(max_pos[i], max_len)\n",
    "print(max_len)"
   ],
   "metadata": {
    "collapsed": false,
    "pycharm": {
     "name": "#%%\n"
    }
   },
   "execution_count": 26,
   "outputs": [
    {
     "name": "stdout",
     "output_type": "stream",
     "text": [
      "3\n"
     ]
    }
   ]
  },
  {
   "cell_type": "markdown",
   "source": [
    "#### 9. 环形数组的连续子数组最大和\n",
    "给定一个长度为n的环形整数数组，请你求出该数组的非空连续子数组 的最大可能和 。\n",
    "环形数组 意味着数组的末端将会与开头相连呈环状。例如，对于数组 [1,3,−5,2,−4] 而言，第一个数1的前一个数是最后一个数−4。\n",
    "第一行输入一个正整数n，代表数组的长度。\n",
    "第二行为n个整数 $a_i$，每个整数之间用空格隔开，代表数组的各个元素。\n",
    "```\n",
    "输入：\n",
    "3\n",
    "5 -3 5\n",
    "输出：\n",
    "10\n",
    "说明：\n",
    "从子数组 [5,5] 得到最大和 5 + 5 = 10\n",
    "```"
   ],
   "metadata": {
    "collapsed": false,
    "pycharm": {
     "name": "#%% md\n"
    }
   }
  },
  {
   "cell_type": "code",
   "execution_count": null,
   "outputs": [],
   "source": [
    "# 知道最小和的连续子数组，那么剩下的就是最大连续子数组的值\n",
    "def func():\n",
    "    n = int(input())\n",
    "    nums = [int(_) for _ in input().split()]\n",
    "    if n == 0:\n",
    "        return 0\n",
    "    res = 0\n",
    "    cur = 0\n",
    "    # 不在环形\n",
    "    for num in nums:\n",
    "        cur = max(cur + num, num)\n",
    "        res = max(cur, res)\n",
    "    if res <= 0:\n",
    "        return max(nums)\n",
    "    cur_min = res_min = 0\n",
    "    # 在环形\n",
    "    for num in nums:\n",
    "        cur_min = min(num + cur_min, num)\n",
    "        res_min = min(res_min, cur_min)\n",
    "\n",
    "    res = max(res, sum(nums) - res_min)\n",
    "    return res\n",
    "\n",
    "\n",
    "print(func())"
   ],
   "metadata": {
    "collapsed": false,
    "pycharm": {
     "name": "#%%\n",
     "is_executing": true
    }
   }
  },
  {
   "cell_type": "markdown",
   "source": [
    "#### 10. 最大子矩阵\n",
    "已知矩阵的大小定义为矩阵中所有元素的和。给定一个矩阵，你的任务是找到最大的非空(大小至少是1 * 1)子矩阵。 比如，如下4 * 4的矩阵\n",
    "```\n",
    "0 -2 -7 0\n",
    "9 2 -6 2\n",
    "-4 1 -4 1\n",
    "-1 8 0 -2\n",
    "的最大子矩阵是\n",
    "9 2\n",
    "-4 1\n",
    "-1 8\n",
    "这个子矩阵的大小是15\n",
    "```\n",
    "输入是一个N * N的矩阵。输入的第一行给出N (0 < N <= 100)。 再后面的若干行中，依次（首先从左到右给出第一行的N个整数，再从左到右给出第二行的N个整数……）给出矩阵中的N2个整数，整数之间由空白字符分隔（空格或者空行）。输出最大\n",
    "矩阵的大小。\n",
    "```\n",
    "输入：\n",
    "4\n",
    "0 -2 -7 0\n",
    "9 2 -6 2\n",
    "-4 1 -4  1\n",
    "-1 8  0 -2\n",
    "输出：\n",
    "15\n",
    "```"
   ],
   "metadata": {
    "collapsed": false,
    "pycharm": {
     "name": "#%% md\n"
    }
   }
  },
  {
   "cell_type": "code",
   "execution_count": 1,
   "outputs": [
    {
     "ename": "ValueError",
     "evalue": "invalid literal for int() with base 10: ''",
     "output_type": "error",
     "traceback": [
      "\u001B[1;31m---------------------------------------------------------------------------\u001B[0m",
      "\u001B[1;31mValueError\u001B[0m                                Traceback (most recent call last)",
      "Input \u001B[1;32mIn [1]\u001B[0m, in \u001B[0;36m<cell line: 32>\u001B[1;34m()\u001B[0m\n\u001B[0;32m     28\u001B[0m             res\u001B[38;5;241m.\u001B[39mappend(list_max(list_temp))\n\u001B[0;32m     29\u001B[0m     \u001B[38;5;28;01mreturn\u001B[39;00m \u001B[38;5;28mmax\u001B[39m(res)\n\u001B[1;32m---> 32\u001B[0m \u001B[43mfunc\u001B[49m\u001B[43m(\u001B[49m\u001B[43m)\u001B[49m\n",
      "Input \u001B[1;32mIn [1]\u001B[0m, in \u001B[0;36mfunc\u001B[1;34m()\u001B[0m\n\u001B[0;32m     11\u001B[0m \u001B[38;5;28;01mdef\u001B[39;00m \u001B[38;5;21mfunc\u001B[39m():\n\u001B[1;32m---> 12\u001B[0m     n \u001B[38;5;241m=\u001B[39m \u001B[38;5;28;43mint\u001B[39;49m\u001B[43m(\u001B[49m\u001B[38;5;28;43minput\u001B[39;49m\u001B[43m(\u001B[49m\u001B[43m)\u001B[49m\u001B[43m)\u001B[49m\n\u001B[0;32m     13\u001B[0m     \u001B[38;5;28;01mif\u001B[39;00m n \u001B[38;5;241m==\u001B[39m \u001B[38;5;241m0\u001B[39m:\n\u001B[0;32m     14\u001B[0m         \u001B[38;5;28;01mreturn\u001B[39;00m \u001B[38;5;241m0\u001B[39m\n",
      "\u001B[1;31mValueError\u001B[0m: invalid literal for int() with base 10: ''"
     ]
    }
   ],
   "source": [
    "def list_max(lst_t):\n",
    "    max_v = lst_t[0]\n",
    "    max_t = lst_t[0]\n",
    "    for num in lst_t[1:]:\n",
    "        max_t = max(max_t + num, num)\n",
    "        max_v = max(max_v, max_t)\n",
    "    return max_v\n",
    "\n",
    "\n",
    "# 从右下角开始,记录每个位置处的最大子矩阵 [i][j]处的最大子矩阵\n",
    "# 或者从左上角开始\n",
    "def func():\n",
    "    n = int(input())\n",
    "    if n == 0:\n",
    "        return 0\n",
    "    nums = []\n",
    "    for i in range(n):\n",
    "        nums.append([int(_) for _ in input().split()])\n",
    "    if n == 1:\n",
    "        return nums[0][0]\n",
    "    # 记录边界值的最大子矩阵\n",
    "    res = []\n",
    "    for i in range(0, n):\n",
    "        # 其他每一行的组合\n",
    "        list_temp = nums[i]\n",
    "        res.append(list_max(lst_t=list_temp))\n",
    "        for j in range(i + 1, n):\n",
    "            list_temp = list(map(lambda x: x[0] + x[1], zip(list_temp, nums[j])))\n",
    "            res.append(list_max(list_temp))\n",
    "    return max(res)\n",
    "\n",
    "\n",
    "func()"
   ],
   "metadata": {
    "collapsed": false,
    "pycharm": {
     "name": "#%%\n"
    }
   }
  },
  {
   "cell_type": "markdown",
   "source": [
    "#### 11. 矩阵的最小路径和\n",
    "给定一个 n * m 的矩阵 a，从左上角开始每次只能向右或者向下走，最后到达右下角的位置，路径上所有的数字累加起来就是路径和，输出所有的路径中最小的路径和。\n",
    "![image](https://uploadfiles.nowcoder.com/images/20220122/423483716_1642823916509/06EB123C153852AF55ED51448BEAD1BA)\n",
    "```\n",
    "输入：\n",
    "4 4\n",
    "1 3 5 9\n",
    "8 1 3 4\n",
    "5 0 6 1\n",
    "8 8 4 0\n",
    "输出：\n",
    "12\n",
    "```"
   ],
   "metadata": {
    "collapsed": false
   }
  },
  {
   "cell_type": "code",
   "execution_count": 55,
   "outputs": [
    {
     "data": {
      "text/plain": "6"
     },
     "execution_count": 55,
     "metadata": {},
     "output_type": "execute_result"
    }
   ],
   "source": [
    "# 状态转移，到达 [i][j]的方式来自[i,j-1] 或者 [i-1,j]\n",
    "# 当n=1 or m=1 的时候只有一条路\n",
    "def func():\n",
    "    n, m = [int(_) for _ in input().split()]\n",
    "    nums = [[int(_) for _ in input().split()] for i in range(n)]\n",
    "    if n <= 1 or m <= 1:\n",
    "        return sum(map(sum, nums))\n",
    "    dps = [[0 for i in range(m)] for j in range(n)]\n",
    "    for row in range(0, n):\n",
    "        for col in range(0, m):\n",
    "            if row == 0 and col == 0:\n",
    "                dps[row][col] = nums[row][col]\n",
    "            elif row == 0 and col > 0:\n",
    "                dps[row][col] = dps[row][col - 1] + nums[row][col]\n",
    "            elif col == 0 and row > 0:\n",
    "                dps[row][col] = dps[row - 1][col] + nums[row][col]\n",
    "            else:\n",
    "                dps[row][col] = min(dps[row - 1][col], dps[row][col - 1]) + nums[row][col]\n",
    "    return dps[-1][-1]\n",
    "\n",
    "\n",
    "func()"
   ],
   "metadata": {
    "collapsed": false,
    "pycharm": {
     "name": "#%%\n"
    }
   }
  },
  {
   "cell_type": "markdown",
   "source": [
    "#### 12 龙与地下城游戏问题\n",
    "给定一个二维数组map，含义是一张地图，例如，如下矩阵\n",
    "$\\begin{Bmatrix} -2&-3&3 \\\\ -5&-10&1\\\\ 0&30&-5 \\end{Bmatrix}$\n",
    "\n",
    "游戏的规则如下:\n",
    "1）骑士从左上角出发，每次只能向右或向下走，最后到达右下角见到公主。\n",
    "2）地图中每个位置的值代表骑士要遭遇的事情。如果是负数，说明此处有怪兽，要让骑士损失血量。如果是非负数，代表此处有血瓶，能让骑士回血。\n",
    "3）骑士从左上角到右下角的过程中，走到任何一个位置时，血量都不能少于1。为了保证骑土能见到公主，初始血量至少是多少?\n",
    "根据map,输出初始血量。\n",
    "```\n",
    "输入：\n",
    "3 3\n",
    "-2 -3 3\n",
    "-5 -10 1\n",
    "0 30 -5\n",
    "输出：\n",
    "7\n",
    "```"
   ],
   "metadata": {
    "collapsed": false,
    "pycharm": {
     "name": "#%% md\n"
    }
   }
  },
  {
   "cell_type": "code",
   "execution_count": 56,
   "outputs": [
    {
     "ename": "SyntaxError",
     "evalue": "invalid syntax (<ipython-input-56-08bf93c166d5>, line 11)",
     "output_type": "error",
     "traceback": [
      "\u001B[1;36m  File \u001B[1;32m\"<ipython-input-56-08bf93c166d5>\"\u001B[1;36m, line \u001B[1;32m11\u001B[0m\n\u001B[1;33m    for col in  range(m)\u001B[0m\n\u001B[1;37m                        ^\u001B[0m\n\u001B[1;31mSyntaxError\u001B[0m\u001B[1;31m:\u001B[0m invalid syntax\n"
     ]
    }
   ],
   "source": [
    "# 状态记录 加完血和扣完血的血量，初始血量根据 nums[0][0]设置\n",
    "def func():\n",
    "    n, m = [int(_) for _ in input().split()]\n",
    "    nums = [[int(_) for _ in input().split()] for i in range(n)]\n",
    "    if n <= 1 or m <= 1:\n",
    "        return sum(map(sum, nums))\n",
    "    # 记录到达第[i,j]的最少初始血量\n",
    "    dps1 = [[0 for i in range(m)] for j in range(n)]\n",
    "    # 记录经过第[i,j]后所剩的血量\n",
    "    dps2 = [[0 for i in range(m)] for j in range(n)]\n",
    "    for row in range(n):\n",
    "        for col in range(m):\n",
    "            if row == 0 and col == 0:\n",
    "                # 最小初始血量\n",
    "                dps1[row][col] = 1 - nums[row][col] if nums[row][col] < 0 else 1\n",
    "                # 第一次被扣的血量\n",
    "                dps2[row][col] = 1 + nums[row][col] if nums[row][col] > 0 else 1\n",
    "            elif row == 0 and col > 0:\n",
    "                dps1[row][col] = dps1[row][col - 1] + nums[row][col]\n",
    "            elif col == 0 and row > 0:\n",
    "                dps1[row][col] = dps1[row - 1][col] + nums[row][col]\n",
    "            else:\n",
    "                dps1[row][col] = min(dps1[row - 1][col], dps1[row][col - 1]) + nums[row][col]\n",
    "\n"
   ],
   "metadata": {
    "collapsed": false,
    "pycharm": {
     "name": "#%%\n"
    }
   }
  }
 ],
 "metadata": {
  "kernelspec": {
   "display_name": "Python 3",
   "language": "python",
   "name": "python3"
  },
  "language_info": {
   "codemirror_mode": {
    "name": "ipython",
    "version": 2
   },
   "file_extension": ".py",
   "mimetype": "text/x-python",
   "name": "python",
   "nbconvert_exporter": "python",
   "pygments_lexer": "ipython2",
   "version": "2.7.6"
  }
 },
 "nbformat": 4,
 "nbformat_minor": 0
}