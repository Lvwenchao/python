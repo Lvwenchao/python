{
 "cells": [
  {
   "cell_type": "code",
   "execution_count": null,
   "outputs": [],
   "source": [
    "import copy"
   ],
   "metadata": {
    "collapsed": false,
    "pycharm": {
     "name": "#%%\n",
     "is_executing": true
    }
   }
  },
  {
   "cell_type": "markdown",
   "source": [
    "1. 无拷贝的情况"
   ],
   "metadata": {
    "collapsed": false
   }
  },
  {
   "cell_type": "code",
   "execution_count": 6,
   "outputs": [
    {
     "name": "stdout",
     "output_type": "stream",
     "text": [
      "{'name': 'lv', 'age': 18, 'l': [1, 2, 3]} {'name': 'lv', 'age': 18, 'l': [1, 2, 3]}\n",
      "a=b? True\n"
     ]
    }
   ],
   "source": [
    "a = {'name': \"lv\", 'age': 12, 'l': [1, 2, 3]}\n",
    "b = a\n",
    "# 修改b 会导致a 发生改变,两个指向同一个id\n",
    "b['age'] = 18\n",
    "print(a, b)\n",
    "print(\"a=b?\", a == b)"
   ],
   "metadata": {
    "collapsed": false,
    "pycharm": {
     "name": "#%%\n"
    }
   }
  },
  {
   "cell_type": "markdown",
   "source": [
    "2. 浅拷贝\n",
    "复制一个对象，但共享子对象"
   ],
   "metadata": {
    "collapsed": false
   }
  },
  {
   "cell_type": "code",
   "execution_count": null,
   "outputs": [],
   "source": [
    "c = a.copy()\n",
    "c.pop('name')\n",
    "c['sex'] = \"man\"\n",
    "c['l'].append(4)\n",
    "c[\"age\"] = 12\n",
    "print(a, c)\n",
    "print(\"a=d?\", a == c)\n",
    "print(a['l'] == c['l'])"
   ],
   "metadata": {
    "collapsed": false,
    "pycharm": {
     "name": "#%%\n",
     "is_executing": true
    }
   }
  },
  {
   "cell_type": "markdown",
   "source": [
    "3. 深拷贝"
   ],
   "metadata": {
    "collapsed": false
   }
  },
  {
   "cell_type": "code",
   "execution_count": 8,
   "outputs": [
    {
     "name": "stdout",
     "output_type": "stream",
     "text": [
      "{'name': 'lv', 'age': 18, 'l': [1, 2, 3, 4]} {'name': 'lv', 'age': 30, 'l': [1, 2, 3, 4]}\n",
      "a=d? False\n"
     ]
    }
   ],
   "source": [
    "d = copy.deepcopy(a)\n",
    "d['age'] = 30\n",
    "\n",
    "print(a, d)\n",
    "print(\"a=d?\", a == d)"
   ],
   "metadata": {
    "collapsed": false,
    "pycharm": {
     "name": "#%%\n"
    }
   }
  }
 ],
 "metadata": {
  "kernelspec": {
   "display_name": "Python 3",
   "language": "python",
   "name": "python3"
  },
  "language_info": {
   "codemirror_mode": {
    "name": "ipython",
    "version": 2
   },
   "file_extension": ".py",
   "mimetype": "text/x-python",
   "name": "python",
   "nbconvert_exporter": "python",
   "pygments_lexer": "ipython2",
   "version": "2.7.6"
  }
 },
 "nbformat": 4,
 "nbformat_minor": 0
}